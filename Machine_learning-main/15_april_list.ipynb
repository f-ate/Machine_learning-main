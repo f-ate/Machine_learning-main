{
 "cells": [
  {
   "cell_type": "code",
   "execution_count": 1,
   "id": "636e51b4",
   "metadata": {},
   "outputs": [],
   "source": [
    "a = 10"
   ]
  },
  {
   "cell_type": "code",
   "execution_count": 2,
   "id": "910ec09a",
   "metadata": {},
   "outputs": [
    {
     "data": {
      "text/plain": [
       "10"
      ]
     },
     "execution_count": 2,
     "metadata": {},
     "output_type": "execute_result"
    }
   ],
   "source": [
    "a"
   ]
  },
  {
   "cell_type": "code",
   "execution_count": 3,
   "id": "d5b7b09c",
   "metadata": {},
   "outputs": [
    {
     "data": {
      "text/plain": [
       "int"
      ]
     },
     "execution_count": 3,
     "metadata": {},
     "output_type": "execute_result"
    }
   ],
   "source": [
    "type(a)"
   ]
  },
  {
   "cell_type": "code",
   "execution_count": 4,
   "id": "c848a6d8",
   "metadata": {},
   "outputs": [],
   "source": [
    "lst = [10,25,47,9,68,32,45,12]"
   ]
  },
  {
   "cell_type": "code",
   "execution_count": 5,
   "id": "2bb41634",
   "metadata": {},
   "outputs": [],
   "source": [
    "lst1 = ['dany','dhanshree','arti']"
   ]
  },
  {
   "cell_type": "code",
   "execution_count": 6,
   "id": "9a057025",
   "metadata": {},
   "outputs": [],
   "source": [
    "lst2 = [15.2,56.37,8.1,9.3]"
   ]
  },
  {
   "cell_type": "code",
   "execution_count": 7,
   "id": "80415f90",
   "metadata": {},
   "outputs": [],
   "source": [
    "lst3 = ['arti',100,67.9]"
   ]
  },
  {
   "cell_type": "code",
   "execution_count": 8,
   "id": "d9cc6309",
   "metadata": {},
   "outputs": [
    {
     "data": {
      "text/plain": [
       "[10, 25, 47, 9, 68, 32, 45, 12]"
      ]
     },
     "execution_count": 8,
     "metadata": {},
     "output_type": "execute_result"
    }
   ],
   "source": [
    "lst"
   ]
  },
  {
   "cell_type": "code",
   "execution_count": 9,
   "id": "ee960271",
   "metadata": {},
   "outputs": [
    {
     "data": {
      "text/plain": [
       "['dany', 'dhanshree', 'arti']"
      ]
     },
     "execution_count": 9,
     "metadata": {},
     "output_type": "execute_result"
    }
   ],
   "source": [
    "lst1"
   ]
  },
  {
   "cell_type": "code",
   "execution_count": 10,
   "id": "4132b100",
   "metadata": {},
   "outputs": [
    {
     "data": {
      "text/plain": [
       "[15.2, 56.37, 8.1, 9.3]"
      ]
     },
     "execution_count": 10,
     "metadata": {},
     "output_type": "execute_result"
    }
   ],
   "source": [
    "lst2"
   ]
  },
  {
   "cell_type": "code",
   "execution_count": 11,
   "id": "e213db26",
   "metadata": {},
   "outputs": [
    {
     "data": {
      "text/plain": [
       "['arti', 100, 67.9]"
      ]
     },
     "execution_count": 11,
     "metadata": {},
     "output_type": "execute_result"
    }
   ],
   "source": [
    "lst3"
   ]
  },
  {
   "cell_type": "code",
   "execution_count": 12,
   "id": "e4c16337",
   "metadata": {},
   "outputs": [
    {
     "data": {
      "text/plain": [
       "list"
      ]
     },
     "execution_count": 12,
     "metadata": {},
     "output_type": "execute_result"
    }
   ],
   "source": [
    "type(lst)"
   ]
  },
  {
   "cell_type": "code",
   "execution_count": 13,
   "id": "e0b2eed1",
   "metadata": {},
   "outputs": [
    {
     "data": {
      "text/plain": [
       "[10, 25, 47, 9, 68, 32, 45, 12]"
      ]
     },
     "execution_count": 13,
     "metadata": {},
     "output_type": "execute_result"
    }
   ],
   "source": [
    "lst"
   ]
  },
  {
   "cell_type": "code",
   "execution_count": 14,
   "id": "ff6dc440",
   "metadata": {},
   "outputs": [
    {
     "data": {
      "text/plain": [
       "8"
      ]
     },
     "execution_count": 14,
     "metadata": {},
     "output_type": "execute_result"
    }
   ],
   "source": [
    "len(lst)"
   ]
  },
  {
   "cell_type": "code",
   "execution_count": 15,
   "id": "ab6f1973",
   "metadata": {},
   "outputs": [
    {
     "data": {
      "text/plain": [
       "47"
      ]
     },
     "execution_count": 15,
     "metadata": {},
     "output_type": "execute_result"
    }
   ],
   "source": [
    "lst[2]"
   ]
  },
  {
   "cell_type": "code",
   "execution_count": 16,
   "id": "a3df92c9",
   "metadata": {},
   "outputs": [
    {
     "data": {
      "text/plain": [
       "12"
      ]
     },
     "execution_count": 16,
     "metadata": {},
     "output_type": "execute_result"
    }
   ],
   "source": [
    "lst[7]"
   ]
  },
  {
   "cell_type": "code",
   "execution_count": 17,
   "id": "9a591772",
   "metadata": {},
   "outputs": [
    {
     "data": {
      "text/plain": [
       "[10, 25, 47, 9, 68, 32, 45, 12]"
      ]
     },
     "execution_count": 17,
     "metadata": {},
     "output_type": "execute_result"
    }
   ],
   "source": [
    "lst"
   ]
  },
  {
   "cell_type": "code",
   "execution_count": 19,
   "id": "2a7c9871",
   "metadata": {},
   "outputs": [
    {
     "data": {
      "text/plain": [
       "[47, 9, 68]"
      ]
     },
     "execution_count": 19,
     "metadata": {},
     "output_type": "execute_result"
    }
   ],
   "source": [
    "lst[2:5]"
   ]
  },
  {
   "cell_type": "code",
   "execution_count": 20,
   "id": "e18ff10a",
   "metadata": {},
   "outputs": [
    {
     "data": {
      "text/plain": [
       "[9, 68, 32, 45, 12]"
      ]
     },
     "execution_count": 20,
     "metadata": {},
     "output_type": "execute_result"
    }
   ],
   "source": [
    "lst[3:]"
   ]
  },
  {
   "cell_type": "code",
   "execution_count": 21,
   "id": "9244fe21",
   "metadata": {},
   "outputs": [
    {
     "data": {
      "text/plain": [
       "[10, 25, 47]"
      ]
     },
     "execution_count": 21,
     "metadata": {},
     "output_type": "execute_result"
    }
   ],
   "source": [
    "lst[0:3]"
   ]
  },
  {
   "cell_type": "code",
   "execution_count": 22,
   "id": "f0498b8c",
   "metadata": {},
   "outputs": [
    {
     "data": {
      "text/plain": [
       "[10, 25, 47]"
      ]
     },
     "execution_count": 22,
     "metadata": {},
     "output_type": "execute_result"
    }
   ],
   "source": [
    "lst[:3]"
   ]
  },
  {
   "cell_type": "code",
   "execution_count": 23,
   "id": "fe261afc",
   "metadata": {},
   "outputs": [
    {
     "data": {
      "text/plain": [
       "[10, 25, 47, 9, 68, 32, 45, 12]"
      ]
     },
     "execution_count": 23,
     "metadata": {},
     "output_type": "execute_result"
    }
   ],
   "source": [
    "lst"
   ]
  },
  {
   "cell_type": "code",
   "execution_count": 24,
   "id": "8e816fe8",
   "metadata": {},
   "outputs": [],
   "source": [
    "lst[3] = 'arti'"
   ]
  },
  {
   "cell_type": "code",
   "execution_count": 25,
   "id": "e923a429",
   "metadata": {},
   "outputs": [
    {
     "data": {
      "text/plain": [
       "[10, 25, 47, 'arti', 68, 32, 45, 12]"
      ]
     },
     "execution_count": 25,
     "metadata": {},
     "output_type": "execute_result"
    }
   ],
   "source": [
    "lst"
   ]
  },
  {
   "cell_type": "code",
   "execution_count": 26,
   "id": "9d1d76b9",
   "metadata": {},
   "outputs": [],
   "source": [
    "lst.append('dany')"
   ]
  },
  {
   "cell_type": "code",
   "execution_count": 27,
   "id": "81c636d6",
   "metadata": {},
   "outputs": [
    {
     "data": {
      "text/plain": [
       "[10, 25, 47, 'arti', 68, 32, 45, 12, 'dany']"
      ]
     },
     "execution_count": 27,
     "metadata": {},
     "output_type": "execute_result"
    }
   ],
   "source": [
    "lst"
   ]
  },
  {
   "cell_type": "code",
   "execution_count": 28,
   "id": "5285c77c",
   "metadata": {},
   "outputs": [],
   "source": [
    "lst.append('dhanshree')"
   ]
  },
  {
   "cell_type": "code",
   "execution_count": 29,
   "id": "958b3048",
   "metadata": {},
   "outputs": [
    {
     "data": {
      "text/plain": [
       "[10, 25, 47, 'arti', 68, 32, 45, 12, 'dany', 'dhanshree']"
      ]
     },
     "execution_count": 29,
     "metadata": {},
     "output_type": "execute_result"
    }
   ],
   "source": [
    "lst"
   ]
  },
  {
   "cell_type": "code",
   "execution_count": 30,
   "id": "c818f922",
   "metadata": {},
   "outputs": [],
   "source": [
    "lst[1] = 'sparrow'"
   ]
  },
  {
   "cell_type": "code",
   "execution_count": 31,
   "id": "c450447c",
   "metadata": {},
   "outputs": [
    {
     "data": {
      "text/plain": [
       "[10, 'sparrow', 47, 'arti', 68, 32, 45, 12, 'dany', 'dhanshree']"
      ]
     },
     "execution_count": 31,
     "metadata": {},
     "output_type": "execute_result"
    }
   ],
   "source": [
    "lst"
   ]
  },
  {
   "cell_type": "code",
   "execution_count": 32,
   "id": "6c300628",
   "metadata": {},
   "outputs": [],
   "source": [
    "nest = [3,4,89,[56,80]]"
   ]
  },
  {
   "cell_type": "code",
   "execution_count": 33,
   "id": "15fa73b0",
   "metadata": {},
   "outputs": [
    {
     "data": {
      "text/plain": [
       "4"
      ]
     },
     "execution_count": 33,
     "metadata": {},
     "output_type": "execute_result"
    }
   ],
   "source": [
    "len(nest)"
   ]
  },
  {
   "cell_type": "code",
   "execution_count": 34,
   "id": "2b3e0383",
   "metadata": {},
   "outputs": [
    {
     "data": {
      "text/plain": [
       "[56, 80]"
      ]
     },
     "execution_count": 34,
     "metadata": {},
     "output_type": "execute_result"
    }
   ],
   "source": [
    "nest[3]"
   ]
  },
  {
   "cell_type": "code",
   "execution_count": 35,
   "id": "f9d97451",
   "metadata": {},
   "outputs": [
    {
     "data": {
      "text/plain": [
       "80"
      ]
     },
     "execution_count": 35,
     "metadata": {},
     "output_type": "execute_result"
    }
   ],
   "source": [
    "nest[3][1]"
   ]
  },
  {
   "cell_type": "code",
   "execution_count": 36,
   "id": "67934605",
   "metadata": {},
   "outputs": [],
   "source": [
    "nest = [56,58,7,[4,5,['target']]]"
   ]
  },
  {
   "cell_type": "code",
   "execution_count": 38,
   "id": "837338c6",
   "metadata": {},
   "outputs": [
    {
     "data": {
      "text/plain": [
       "[4, 5, ['target']]"
      ]
     },
     "execution_count": 38,
     "metadata": {},
     "output_type": "execute_result"
    }
   ],
   "source": [
    "nest[3]"
   ]
  },
  {
   "cell_type": "code",
   "execution_count": 39,
   "id": "29a52f14",
   "metadata": {},
   "outputs": [
    {
     "data": {
      "text/plain": [
       "['target']"
      ]
     },
     "execution_count": 39,
     "metadata": {},
     "output_type": "execute_result"
    }
   ],
   "source": [
    "nest[3][2]"
   ]
  },
  {
   "cell_type": "code",
   "execution_count": 40,
   "id": "14f760ba",
   "metadata": {},
   "outputs": [
    {
     "data": {
      "text/plain": [
       "'target'"
      ]
     },
     "execution_count": 40,
     "metadata": {},
     "output_type": "execute_result"
    }
   ],
   "source": [
    "nest[3][2][0]"
   ]
  },
  {
   "cell_type": "code",
   "execution_count": 42,
   "id": "24aa45ff",
   "metadata": {},
   "outputs": [],
   "source": [
    "# Dictionary"
   ]
  },
  {
   "cell_type": "markdown",
   "id": "e57cc916",
   "metadata": {},
   "source": [
    "# Dictionay"
   ]
  },
  {
   "cell_type": "markdown",
   "id": "82331ab8",
   "metadata": {},
   "source": [
    "## Dictionary"
   ]
  },
  {
   "cell_type": "markdown",
   "id": "d1ac27db",
   "metadata": {},
   "source": [
    "### Dictionary"
   ]
  },
  {
   "cell_type": "code",
   "execution_count": 43,
   "id": "554e1d3c",
   "metadata": {},
   "outputs": [],
   "source": [
    "d = {'name': 'Rahul','age':12,'city':'Nagpur','mobile':9545243192,'gender':'Male'}"
   ]
  },
  {
   "cell_type": "code",
   "execution_count": 44,
   "id": "0dafa03a",
   "metadata": {},
   "outputs": [
    {
     "data": {
      "text/plain": [
       "{'name': 'Rahul',\n",
       " 'age': 12,\n",
       " 'city': 'Nagpur',\n",
       " 'mobile': 9545243192,\n",
       " 'gender': 'Male'}"
      ]
     },
     "execution_count": 44,
     "metadata": {},
     "output_type": "execute_result"
    }
   ],
   "source": [
    "d"
   ]
  },
  {
   "cell_type": "code",
   "execution_count": 45,
   "id": "13563840",
   "metadata": {},
   "outputs": [
    {
     "data": {
      "text/plain": [
       "dict_keys(['name', 'age', 'city', 'mobile', 'gender'])"
      ]
     },
     "execution_count": 45,
     "metadata": {},
     "output_type": "execute_result"
    }
   ],
   "source": [
    "d.keys()"
   ]
  },
  {
   "cell_type": "code",
   "execution_count": 46,
   "id": "74ec62e4",
   "metadata": {},
   "outputs": [
    {
     "data": {
      "text/plain": [
       "dict_values(['Rahul', 12, 'Nagpur', 9545243192, 'Male'])"
      ]
     },
     "execution_count": 46,
     "metadata": {},
     "output_type": "execute_result"
    }
   ],
   "source": [
    "d.values()"
   ]
  },
  {
   "cell_type": "code",
   "execution_count": 47,
   "id": "d54e508a",
   "metadata": {},
   "outputs": [
    {
     "data": {
      "text/plain": [
       "12"
      ]
     },
     "execution_count": 47,
     "metadata": {},
     "output_type": "execute_result"
    }
   ],
   "source": [
    "d['age']"
   ]
  },
  {
   "cell_type": "code",
   "execution_count": 48,
   "id": "0c1cf116",
   "metadata": {},
   "outputs": [
    {
     "data": {
      "text/plain": [
       "9545243192"
      ]
     },
     "execution_count": 48,
     "metadata": {},
     "output_type": "execute_result"
    }
   ],
   "source": [
    "d['mobile']"
   ]
  },
  {
   "cell_type": "code",
   "execution_count": 49,
   "id": "43bacc40",
   "metadata": {},
   "outputs": [],
   "source": [
    "d1 = {'k1':[45,7,8]}"
   ]
  },
  {
   "cell_type": "code",
   "execution_count": 51,
   "id": "044b227f",
   "metadata": {},
   "outputs": [
    {
     "data": {
      "text/plain": [
       "[45, 7, 8]"
      ]
     },
     "execution_count": 51,
     "metadata": {},
     "output_type": "execute_result"
    }
   ],
   "source": [
    "d1['k1']"
   ]
  },
  {
   "cell_type": "code",
   "execution_count": 52,
   "id": "dd7870b6",
   "metadata": {},
   "outputs": [
    {
     "data": {
      "text/plain": [
       "8"
      ]
     },
     "execution_count": 52,
     "metadata": {},
     "output_type": "execute_result"
    }
   ],
   "source": [
    "d1['k1'][2]"
   ]
  },
  {
   "cell_type": "code",
   "execution_count": 53,
   "id": "14e6363c",
   "metadata": {},
   "outputs": [],
   "source": [
    "d2 = {'k1':{'innerkey':[56,89,7]}}"
   ]
  },
  {
   "cell_type": "code",
   "execution_count": 54,
   "id": "dc63e47d",
   "metadata": {},
   "outputs": [
    {
     "data": {
      "text/plain": [
       "7"
      ]
     },
     "execution_count": 54,
     "metadata": {},
     "output_type": "execute_result"
    }
   ],
   "source": [
    "d2['k1']['innerkey'][2]"
   ]
  },
  {
   "cell_type": "code",
   "execution_count": null,
   "id": "bb743316",
   "metadata": {},
   "outputs": [],
   "source": []
  }
 ],
 "metadata": {
  "kernelspec": {
   "display_name": "Python 3 (ipykernel)",
   "language": "python",
   "name": "python3"
  },
  "language_info": {
   "codemirror_mode": {
    "name": "ipython",
    "version": 3
   },
   "file_extension": ".py",
   "mimetype": "text/x-python",
   "name": "python",
   "nbconvert_exporter": "python",
   "pygments_lexer": "ipython3",
   "version": "3.9.7"
  }
 },
 "nbformat": 4,
 "nbformat_minor": 5
}
