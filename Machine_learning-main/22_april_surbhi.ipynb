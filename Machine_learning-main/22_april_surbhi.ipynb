{
 "cells": [
  {
   "cell_type": "code",
   "execution_count": 1,
   "id": "3df4af9d",
   "metadata": {},
   "outputs": [],
   "source": [
    "lst = [45,56,7,2,6,4,9,2,58]"
   ]
  },
  {
   "cell_type": "code",
   "execution_count": 2,
   "id": "146163e9",
   "metadata": {},
   "outputs": [
    {
     "data": {
      "text/plain": [
       "9"
      ]
     },
     "execution_count": 2,
     "metadata": {},
     "output_type": "execute_result"
    }
   ],
   "source": [
    "len(lst)"
   ]
  },
  {
   "cell_type": "code",
   "execution_count": 3,
   "id": "f85b17a0",
   "metadata": {},
   "outputs": [
    {
     "data": {
      "text/plain": [
       "7"
      ]
     },
     "execution_count": 3,
     "metadata": {},
     "output_type": "execute_result"
    }
   ],
   "source": [
    "lst[2]"
   ]
  },
  {
   "cell_type": "code",
   "execution_count": 4,
   "id": "949dfab0",
   "metadata": {},
   "outputs": [],
   "source": [
    "nest = [78,34,56,73,[54,23,789]]"
   ]
  },
  {
   "cell_type": "code",
   "execution_count": 5,
   "id": "bbbd28c7",
   "metadata": {},
   "outputs": [
    {
     "data": {
      "text/plain": [
       "5"
      ]
     },
     "execution_count": 5,
     "metadata": {},
     "output_type": "execute_result"
    }
   ],
   "source": [
    "len(nest)"
   ]
  },
  {
   "cell_type": "code",
   "execution_count": 6,
   "id": "9d02c9b6",
   "metadata": {},
   "outputs": [
    {
     "data": {
      "text/plain": [
       "[54, 23, 789]"
      ]
     },
     "execution_count": 6,
     "metadata": {},
     "output_type": "execute_result"
    }
   ],
   "source": [
    "nest[4]"
   ]
  },
  {
   "cell_type": "code",
   "execution_count": 7,
   "id": "d67e147e",
   "metadata": {},
   "outputs": [
    {
     "data": {
      "text/plain": [
       "23"
      ]
     },
     "execution_count": 7,
     "metadata": {},
     "output_type": "execute_result"
    }
   ],
   "source": [
    "nest[4][1]"
   ]
  },
  {
   "cell_type": "code",
   "execution_count": 8,
   "id": "2bf32087",
   "metadata": {},
   "outputs": [],
   "source": [
    "nest = [2,4,5,8,[67,89,['Target']]]"
   ]
  },
  {
   "cell_type": "code",
   "execution_count": 9,
   "id": "9f64ae0c",
   "metadata": {},
   "outputs": [
    {
     "data": {
      "text/plain": [
       "[67, 89, ['Target']]"
      ]
     },
     "execution_count": 9,
     "metadata": {},
     "output_type": "execute_result"
    }
   ],
   "source": [
    "nest[4]"
   ]
  },
  {
   "cell_type": "code",
   "execution_count": 10,
   "id": "ef4e4f96",
   "metadata": {},
   "outputs": [
    {
     "data": {
      "text/plain": [
       "['Target']"
      ]
     },
     "execution_count": 10,
     "metadata": {},
     "output_type": "execute_result"
    }
   ],
   "source": [
    "nest[4][2]"
   ]
  },
  {
   "cell_type": "code",
   "execution_count": 11,
   "id": "699eba2c",
   "metadata": {},
   "outputs": [
    {
     "data": {
      "text/plain": [
       "'Target'"
      ]
     },
     "execution_count": 11,
     "metadata": {},
     "output_type": "execute_result"
    }
   ],
   "source": [
    "nest[4][2][0]"
   ]
  },
  {
   "cell_type": "code",
   "execution_count": 12,
   "id": "035f5ddd",
   "metadata": {},
   "outputs": [],
   "source": [
    "# dictionary"
   ]
  },
  {
   "cell_type": "code",
   "execution_count": 13,
   "id": "8a23f24e",
   "metadata": {},
   "outputs": [],
   "source": [
    "d = {'name':'sonu','city':'Pune','age':25,'mobile':9545243192}"
   ]
  },
  {
   "cell_type": "code",
   "execution_count": 14,
   "id": "353c066f",
   "metadata": {},
   "outputs": [
    {
     "data": {
      "text/plain": [
       "{'name': 'sonu', 'city': 'Pune', 'age': 25, 'mobile': 9545243192}"
      ]
     },
     "execution_count": 14,
     "metadata": {},
     "output_type": "execute_result"
    }
   ],
   "source": [
    "d"
   ]
  },
  {
   "cell_type": "code",
   "execution_count": 15,
   "id": "807ea7fe",
   "metadata": {},
   "outputs": [
    {
     "data": {
      "text/plain": [
       "dict_keys(['name', 'city', 'age', 'mobile'])"
      ]
     },
     "execution_count": 15,
     "metadata": {},
     "output_type": "execute_result"
    }
   ],
   "source": [
    "d.keys()"
   ]
  },
  {
   "cell_type": "code",
   "execution_count": 16,
   "id": "3cbee158",
   "metadata": {},
   "outputs": [
    {
     "data": {
      "text/plain": [
       "dict_values(['sonu', 'Pune', 25, 9545243192])"
      ]
     },
     "execution_count": 16,
     "metadata": {},
     "output_type": "execute_result"
    }
   ],
   "source": [
    "d.values()"
   ]
  },
  {
   "cell_type": "code",
   "execution_count": 17,
   "id": "496862c9",
   "metadata": {},
   "outputs": [
    {
     "data": {
      "text/plain": [
       "25"
      ]
     },
     "execution_count": 17,
     "metadata": {},
     "output_type": "execute_result"
    }
   ],
   "source": [
    "d['age']"
   ]
  },
  {
   "cell_type": "code",
   "execution_count": 18,
   "id": "3c3fddc2",
   "metadata": {},
   "outputs": [
    {
     "data": {
      "text/plain": [
       "'Pune'"
      ]
     },
     "execution_count": 18,
     "metadata": {},
     "output_type": "execute_result"
    }
   ],
   "source": [
    "d['city']"
   ]
  },
  {
   "cell_type": "code",
   "execution_count": 19,
   "id": "68d46ffb",
   "metadata": {},
   "outputs": [],
   "source": [
    "d = {'key1':[15,68,95,45]}"
   ]
  },
  {
   "cell_type": "code",
   "execution_count": 21,
   "id": "28d0c65b",
   "metadata": {},
   "outputs": [
    {
     "data": {
      "text/plain": [
       "[15, 68, 95, 45]"
      ]
     },
     "execution_count": 21,
     "metadata": {},
     "output_type": "execute_result"
    }
   ],
   "source": [
    "d['key1']"
   ]
  },
  {
   "cell_type": "code",
   "execution_count": 22,
   "id": "c7fe8d5a",
   "metadata": {},
   "outputs": [
    {
     "data": {
      "text/plain": [
       "95"
      ]
     },
     "execution_count": 22,
     "metadata": {},
     "output_type": "execute_result"
    }
   ],
   "source": [
    "d['key1'][2]"
   ]
  },
  {
   "cell_type": "code",
   "execution_count": 23,
   "id": "b50891d2",
   "metadata": {},
   "outputs": [],
   "source": [
    "d = {'k1':{'innerkey':[67,8,3,6]}}"
   ]
  },
  {
   "cell_type": "code",
   "execution_count": 24,
   "id": "753bd034",
   "metadata": {},
   "outputs": [
    {
     "data": {
      "text/plain": [
       "3"
      ]
     },
     "execution_count": 24,
     "metadata": {},
     "output_type": "execute_result"
    }
   ],
   "source": [
    "d['k1']['innerkey'][2]"
   ]
  },
  {
   "cell_type": "code",
   "execution_count": 25,
   "id": "c105d770",
   "metadata": {},
   "outputs": [],
   "source": [
    "#tuple"
   ]
  },
  {
   "cell_type": "code",
   "execution_count": 26,
   "id": "970f8dcc",
   "metadata": {},
   "outputs": [],
   "source": [
    "t = (45,7,34,78,90)"
   ]
  },
  {
   "cell_type": "code",
   "execution_count": 27,
   "id": "7ead5c47",
   "metadata": {},
   "outputs": [
    {
     "data": {
      "text/plain": [
       "(45, 7, 34, 78, 90)"
      ]
     },
     "execution_count": 27,
     "metadata": {},
     "output_type": "execute_result"
    }
   ],
   "source": [
    "t"
   ]
  },
  {
   "cell_type": "code",
   "execution_count": 28,
   "id": "b251a827",
   "metadata": {},
   "outputs": [
    {
     "data": {
      "text/plain": [
       "[45, 56, 7, 2, 6, 4, 9, 2, 58]"
      ]
     },
     "execution_count": 28,
     "metadata": {},
     "output_type": "execute_result"
    }
   ],
   "source": [
    "lst"
   ]
  },
  {
   "cell_type": "code",
   "execution_count": 29,
   "id": "d859f8fd",
   "metadata": {},
   "outputs": [],
   "source": [
    "lst[1] = 'surbhi'"
   ]
  },
  {
   "cell_type": "code",
   "execution_count": 30,
   "id": "4a3eb6b9",
   "metadata": {},
   "outputs": [
    {
     "data": {
      "text/plain": [
       "[45, 'surbhi', 7, 2, 6, 4, 9, 2, 58]"
      ]
     },
     "execution_count": 30,
     "metadata": {},
     "output_type": "execute_result"
    }
   ],
   "source": [
    "lst"
   ]
  },
  {
   "cell_type": "code",
   "execution_count": 31,
   "id": "99013e35",
   "metadata": {},
   "outputs": [
    {
     "data": {
      "text/plain": [
       "(45, 7, 34, 78, 90)"
      ]
     },
     "execution_count": 31,
     "metadata": {},
     "output_type": "execute_result"
    }
   ],
   "source": [
    "t"
   ]
  },
  {
   "cell_type": "code",
   "execution_count": 33,
   "id": "ee8b8c81",
   "metadata": {},
   "outputs": [],
   "source": [
    "# t[1] = 'dany' "
   ]
  },
  {
   "cell_type": "code",
   "execution_count": 34,
   "id": "fe40618e",
   "metadata": {},
   "outputs": [],
   "source": [
    "s = {15,58,69,89}"
   ]
  },
  {
   "cell_type": "code",
   "execution_count": 35,
   "id": "8d2609cf",
   "metadata": {},
   "outputs": [
    {
     "data": {
      "text/plain": [
       "{15, 58, 69, 89}"
      ]
     },
     "execution_count": 35,
     "metadata": {},
     "output_type": "execute_result"
    }
   ],
   "source": [
    "s"
   ]
  },
  {
   "cell_type": "code",
   "execution_count": 36,
   "id": "5d90f743",
   "metadata": {},
   "outputs": [],
   "source": [
    "s = {15,58,69,89,15,15,15}"
   ]
  },
  {
   "cell_type": "code",
   "execution_count": 37,
   "id": "3148204f",
   "metadata": {},
   "outputs": [
    {
     "data": {
      "text/plain": [
       "{15, 58, 69, 89}"
      ]
     },
     "execution_count": 37,
     "metadata": {},
     "output_type": "execute_result"
    }
   ],
   "source": [
    "s"
   ]
  },
  {
   "cell_type": "code",
   "execution_count": null,
   "id": "14092839",
   "metadata": {},
   "outputs": [],
   "source": []
  }
 ],
 "metadata": {
  "kernelspec": {
   "display_name": "Python 3 (ipykernel)",
   "language": "python",
   "name": "python3"
  },
  "language_info": {
   "codemirror_mode": {
    "name": "ipython",
    "version": 3
   },
   "file_extension": ".py",
   "mimetype": "text/x-python",
   "name": "python",
   "nbconvert_exporter": "python",
   "pygments_lexer": "ipython3",
   "version": "3.9.7"
  }
 },
 "nbformat": 4,
 "nbformat_minor": 5
}
