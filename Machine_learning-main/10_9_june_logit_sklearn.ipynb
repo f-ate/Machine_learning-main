{
 "cells": [
  {
   "cell_type": "code",
   "execution_count": 1,
   "id": "874783f4",
   "metadata": {},
   "outputs": [],
   "source": [
    "import numpy as np\n",
    "import pandas as pd\n",
    "import matplotlib.pyplot as plt\n",
    "import seaborn as sns\n",
    "sns.set_style('whitegrid')"
   ]
  },
  {
   "cell_type": "code",
   "execution_count": 2,
   "id": "2316adee",
   "metadata": {},
   "outputs": [],
   "source": [
    "dataset = pd.read_csv('admitance.csv')"
   ]
  },
  {
   "cell_type": "code",
   "execution_count": 3,
   "id": "47523869",
   "metadata": {},
   "outputs": [
    {
     "data": {
      "text/html": [
       "<div>\n",
       "<style scoped>\n",
       "    .dataframe tbody tr th:only-of-type {\n",
       "        vertical-align: middle;\n",
       "    }\n",
       "\n",
       "    .dataframe tbody tr th {\n",
       "        vertical-align: top;\n",
       "    }\n",
       "\n",
       "    .dataframe thead th {\n",
       "        text-align: right;\n",
       "    }\n",
       "</style>\n",
       "<table border=\"1\" class=\"dataframe\">\n",
       "  <thead>\n",
       "    <tr style=\"text-align: right;\">\n",
       "      <th></th>\n",
       "      <th>SAT</th>\n",
       "      <th>Admitted</th>\n",
       "    </tr>\n",
       "  </thead>\n",
       "  <tbody>\n",
       "    <tr>\n",
       "      <th>0</th>\n",
       "      <td>1363</td>\n",
       "      <td>No</td>\n",
       "    </tr>\n",
       "    <tr>\n",
       "      <th>1</th>\n",
       "      <td>1792</td>\n",
       "      <td>Yes</td>\n",
       "    </tr>\n",
       "    <tr>\n",
       "      <th>2</th>\n",
       "      <td>1954</td>\n",
       "      <td>Yes</td>\n",
       "    </tr>\n",
       "    <tr>\n",
       "      <th>3</th>\n",
       "      <td>1653</td>\n",
       "      <td>No</td>\n",
       "    </tr>\n",
       "    <tr>\n",
       "      <th>4</th>\n",
       "      <td>1593</td>\n",
       "      <td>No</td>\n",
       "    </tr>\n",
       "    <tr>\n",
       "      <th>...</th>\n",
       "      <td>...</td>\n",
       "      <td>...</td>\n",
       "    </tr>\n",
       "    <tr>\n",
       "      <th>163</th>\n",
       "      <td>1722</td>\n",
       "      <td>Yes</td>\n",
       "    </tr>\n",
       "    <tr>\n",
       "      <th>164</th>\n",
       "      <td>1750</td>\n",
       "      <td>Yes</td>\n",
       "    </tr>\n",
       "    <tr>\n",
       "      <th>165</th>\n",
       "      <td>1555</td>\n",
       "      <td>No</td>\n",
       "    </tr>\n",
       "    <tr>\n",
       "      <th>166</th>\n",
       "      <td>1524</td>\n",
       "      <td>No</td>\n",
       "    </tr>\n",
       "    <tr>\n",
       "      <th>167</th>\n",
       "      <td>1461</td>\n",
       "      <td>No</td>\n",
       "    </tr>\n",
       "  </tbody>\n",
       "</table>\n",
       "<p>168 rows × 2 columns</p>\n",
       "</div>"
      ],
      "text/plain": [
       "      SAT Admitted\n",
       "0    1363       No\n",
       "1    1792      Yes\n",
       "2    1954      Yes\n",
       "3    1653       No\n",
       "4    1593       No\n",
       "..    ...      ...\n",
       "163  1722      Yes\n",
       "164  1750      Yes\n",
       "165  1555       No\n",
       "166  1524       No\n",
       "167  1461       No\n",
       "\n",
       "[168 rows x 2 columns]"
      ]
     },
     "execution_count": 3,
     "metadata": {},
     "output_type": "execute_result"
    }
   ],
   "source": [
    "dataset"
   ]
  },
  {
   "cell_type": "code",
   "execution_count": 4,
   "id": "c62217c1",
   "metadata": {},
   "outputs": [],
   "source": [
    "dataset['Admitted'] = dataset['Admitted'].map({'Yes':1,'No':0})"
   ]
  },
  {
   "cell_type": "code",
   "execution_count": 5,
   "id": "c1ebc97b",
   "metadata": {},
   "outputs": [
    {
     "data": {
      "text/html": [
       "<div>\n",
       "<style scoped>\n",
       "    .dataframe tbody tr th:only-of-type {\n",
       "        vertical-align: middle;\n",
       "    }\n",
       "\n",
       "    .dataframe tbody tr th {\n",
       "        vertical-align: top;\n",
       "    }\n",
       "\n",
       "    .dataframe thead th {\n",
       "        text-align: right;\n",
       "    }\n",
       "</style>\n",
       "<table border=\"1\" class=\"dataframe\">\n",
       "  <thead>\n",
       "    <tr style=\"text-align: right;\">\n",
       "      <th></th>\n",
       "      <th>SAT</th>\n",
       "      <th>Admitted</th>\n",
       "    </tr>\n",
       "  </thead>\n",
       "  <tbody>\n",
       "    <tr>\n",
       "      <th>0</th>\n",
       "      <td>1363</td>\n",
       "      <td>0</td>\n",
       "    </tr>\n",
       "    <tr>\n",
       "      <th>1</th>\n",
       "      <td>1792</td>\n",
       "      <td>1</td>\n",
       "    </tr>\n",
       "    <tr>\n",
       "      <th>2</th>\n",
       "      <td>1954</td>\n",
       "      <td>1</td>\n",
       "    </tr>\n",
       "    <tr>\n",
       "      <th>3</th>\n",
       "      <td>1653</td>\n",
       "      <td>0</td>\n",
       "    </tr>\n",
       "    <tr>\n",
       "      <th>4</th>\n",
       "      <td>1593</td>\n",
       "      <td>0</td>\n",
       "    </tr>\n",
       "    <tr>\n",
       "      <th>...</th>\n",
       "      <td>...</td>\n",
       "      <td>...</td>\n",
       "    </tr>\n",
       "    <tr>\n",
       "      <th>163</th>\n",
       "      <td>1722</td>\n",
       "      <td>1</td>\n",
       "    </tr>\n",
       "    <tr>\n",
       "      <th>164</th>\n",
       "      <td>1750</td>\n",
       "      <td>1</td>\n",
       "    </tr>\n",
       "    <tr>\n",
       "      <th>165</th>\n",
       "      <td>1555</td>\n",
       "      <td>0</td>\n",
       "    </tr>\n",
       "    <tr>\n",
       "      <th>166</th>\n",
       "      <td>1524</td>\n",
       "      <td>0</td>\n",
       "    </tr>\n",
       "    <tr>\n",
       "      <th>167</th>\n",
       "      <td>1461</td>\n",
       "      <td>0</td>\n",
       "    </tr>\n",
       "  </tbody>\n",
       "</table>\n",
       "<p>168 rows × 2 columns</p>\n",
       "</div>"
      ],
      "text/plain": [
       "      SAT  Admitted\n",
       "0    1363         0\n",
       "1    1792         1\n",
       "2    1954         1\n",
       "3    1653         0\n",
       "4    1593         0\n",
       "..    ...       ...\n",
       "163  1722         1\n",
       "164  1750         1\n",
       "165  1555         0\n",
       "166  1524         0\n",
       "167  1461         0\n",
       "\n",
       "[168 rows x 2 columns]"
      ]
     },
     "execution_count": 5,
     "metadata": {},
     "output_type": "execute_result"
    }
   ],
   "source": [
    "dataset"
   ]
  },
  {
   "cell_type": "code",
   "execution_count": 6,
   "id": "6dc16a33",
   "metadata": {},
   "outputs": [],
   "source": [
    "X = dataset['SAT']"
   ]
  },
  {
   "cell_type": "code",
   "execution_count": 8,
   "id": "f105c726",
   "metadata": {},
   "outputs": [
    {
     "data": {
      "text/plain": [
       "pandas.core.series.Series"
      ]
     },
     "execution_count": 8,
     "metadata": {},
     "output_type": "execute_result"
    }
   ],
   "source": [
    "type(X)"
   ]
  },
  {
   "cell_type": "code",
   "execution_count": 9,
   "id": "ff4fdaae",
   "metadata": {},
   "outputs": [],
   "source": [
    "X = np.array(X)"
   ]
  },
  {
   "cell_type": "code",
   "execution_count": 10,
   "id": "2433ac3e",
   "metadata": {},
   "outputs": [
    {
     "data": {
      "text/plain": [
       "array([1363, 1792, 1954, 1653, 1593, 1755, 1775, 1887, 1893, 1580, 1857,\n",
       "       1880, 1664, 1364, 1693, 1850, 1633, 1634, 1636, 1855, 1987, 1997,\n",
       "       1422, 1508, 1720, 1879, 1634, 1802, 1849, 1764, 1460, 1675, 1656,\n",
       "       2020, 1850, 1865, 1664, 1872, 1654, 1393, 1587, 1631, 1931, 1370,\n",
       "       1810, 1414, 1761, 1477, 1486, 1561, 1549, 2050, 1697, 1543, 1934,\n",
       "       1385, 1670, 1735, 1634, 1777, 1550, 1715, 1925, 1842, 1786, 1435,\n",
       "       1387, 1521, 1975, 1435, 1714, 1634, 1464, 1794, 1855, 1953, 1469,\n",
       "       1663, 1907, 1990, 1542, 1808, 1966, 1679, 2021, 2015, 1473, 1979,\n",
       "       1787, 1687, 1674, 1478, 1735, 1720, 1494, 1964, 1843, 1550, 1764,\n",
       "       1712, 1775, 1531, 1781, 1579, 1526, 1778, 1769, 1824, 1481, 1464,\n",
       "       1591, 1666, 1455, 1934, 1625, 1334, 1721, 1475, 1662, 1861, 1936,\n",
       "       1572, 1508, 1430, 1891, 1550, 1741, 1690, 1687, 1730, 1674, 1475,\n",
       "       1962, 1532, 1492, 1502, 1974, 1607, 1412, 1557, 1821, 1760, 1685,\n",
       "       1773, 1826, 1565, 1510, 1374, 1402, 1702, 1956, 1933, 1832, 1893,\n",
       "       1831, 1487, 2041, 1850, 1555, 2020, 1593, 1934, 1808, 1722, 1750,\n",
       "       1555, 1524, 1461], dtype=int64)"
      ]
     },
     "execution_count": 10,
     "metadata": {},
     "output_type": "execute_result"
    }
   ],
   "source": [
    "X"
   ]
  },
  {
   "cell_type": "code",
   "execution_count": 11,
   "id": "f4ab2af3",
   "metadata": {},
   "outputs": [
    {
     "data": {
      "text/plain": [
       "(168,)"
      ]
     },
     "execution_count": 11,
     "metadata": {},
     "output_type": "execute_result"
    }
   ],
   "source": [
    "X.shape"
   ]
  },
  {
   "cell_type": "code",
   "execution_count": 12,
   "id": "a954f3ef",
   "metadata": {},
   "outputs": [],
   "source": [
    "X = X.reshape(168,1)"
   ]
  },
  {
   "cell_type": "code",
   "execution_count": 13,
   "id": "64dd69db",
   "metadata": {},
   "outputs": [
    {
     "data": {
      "text/plain": [
       "array([[1363],\n",
       "       [1792],\n",
       "       [1954],\n",
       "       [1653],\n",
       "       [1593],\n",
       "       [1755],\n",
       "       [1775],\n",
       "       [1887],\n",
       "       [1893],\n",
       "       [1580],\n",
       "       [1857],\n",
       "       [1880],\n",
       "       [1664],\n",
       "       [1364],\n",
       "       [1693],\n",
       "       [1850],\n",
       "       [1633],\n",
       "       [1634],\n",
       "       [1636],\n",
       "       [1855],\n",
       "       [1987],\n",
       "       [1997],\n",
       "       [1422],\n",
       "       [1508],\n",
       "       [1720],\n",
       "       [1879],\n",
       "       [1634],\n",
       "       [1802],\n",
       "       [1849],\n",
       "       [1764],\n",
       "       [1460],\n",
       "       [1675],\n",
       "       [1656],\n",
       "       [2020],\n",
       "       [1850],\n",
       "       [1865],\n",
       "       [1664],\n",
       "       [1872],\n",
       "       [1654],\n",
       "       [1393],\n",
       "       [1587],\n",
       "       [1631],\n",
       "       [1931],\n",
       "       [1370],\n",
       "       [1810],\n",
       "       [1414],\n",
       "       [1761],\n",
       "       [1477],\n",
       "       [1486],\n",
       "       [1561],\n",
       "       [1549],\n",
       "       [2050],\n",
       "       [1697],\n",
       "       [1543],\n",
       "       [1934],\n",
       "       [1385],\n",
       "       [1670],\n",
       "       [1735],\n",
       "       [1634],\n",
       "       [1777],\n",
       "       [1550],\n",
       "       [1715],\n",
       "       [1925],\n",
       "       [1842],\n",
       "       [1786],\n",
       "       [1435],\n",
       "       [1387],\n",
       "       [1521],\n",
       "       [1975],\n",
       "       [1435],\n",
       "       [1714],\n",
       "       [1634],\n",
       "       [1464],\n",
       "       [1794],\n",
       "       [1855],\n",
       "       [1953],\n",
       "       [1469],\n",
       "       [1663],\n",
       "       [1907],\n",
       "       [1990],\n",
       "       [1542],\n",
       "       [1808],\n",
       "       [1966],\n",
       "       [1679],\n",
       "       [2021],\n",
       "       [2015],\n",
       "       [1473],\n",
       "       [1979],\n",
       "       [1787],\n",
       "       [1687],\n",
       "       [1674],\n",
       "       [1478],\n",
       "       [1735],\n",
       "       [1720],\n",
       "       [1494],\n",
       "       [1964],\n",
       "       [1843],\n",
       "       [1550],\n",
       "       [1764],\n",
       "       [1712],\n",
       "       [1775],\n",
       "       [1531],\n",
       "       [1781],\n",
       "       [1579],\n",
       "       [1526],\n",
       "       [1778],\n",
       "       [1769],\n",
       "       [1824],\n",
       "       [1481],\n",
       "       [1464],\n",
       "       [1591],\n",
       "       [1666],\n",
       "       [1455],\n",
       "       [1934],\n",
       "       [1625],\n",
       "       [1334],\n",
       "       [1721],\n",
       "       [1475],\n",
       "       [1662],\n",
       "       [1861],\n",
       "       [1936],\n",
       "       [1572],\n",
       "       [1508],\n",
       "       [1430],\n",
       "       [1891],\n",
       "       [1550],\n",
       "       [1741],\n",
       "       [1690],\n",
       "       [1687],\n",
       "       [1730],\n",
       "       [1674],\n",
       "       [1475],\n",
       "       [1962],\n",
       "       [1532],\n",
       "       [1492],\n",
       "       [1502],\n",
       "       [1974],\n",
       "       [1607],\n",
       "       [1412],\n",
       "       [1557],\n",
       "       [1821],\n",
       "       [1760],\n",
       "       [1685],\n",
       "       [1773],\n",
       "       [1826],\n",
       "       [1565],\n",
       "       [1510],\n",
       "       [1374],\n",
       "       [1402],\n",
       "       [1702],\n",
       "       [1956],\n",
       "       [1933],\n",
       "       [1832],\n",
       "       [1893],\n",
       "       [1831],\n",
       "       [1487],\n",
       "       [2041],\n",
       "       [1850],\n",
       "       [1555],\n",
       "       [2020],\n",
       "       [1593],\n",
       "       [1934],\n",
       "       [1808],\n",
       "       [1722],\n",
       "       [1750],\n",
       "       [1555],\n",
       "       [1524],\n",
       "       [1461]], dtype=int64)"
      ]
     },
     "execution_count": 13,
     "metadata": {},
     "output_type": "execute_result"
    }
   ],
   "source": [
    "X"
   ]
  },
  {
   "cell_type": "code",
   "execution_count": 14,
   "id": "cdef7eee",
   "metadata": {},
   "outputs": [
    {
     "data": {
      "text/plain": [
       "(168, 1)"
      ]
     },
     "execution_count": 14,
     "metadata": {},
     "output_type": "execute_result"
    }
   ],
   "source": [
    "X.shape"
   ]
  },
  {
   "cell_type": "code",
   "execution_count": 15,
   "id": "cc512d13",
   "metadata": {},
   "outputs": [],
   "source": [
    "y = np.array(dataset['Admitted'])"
   ]
  },
  {
   "cell_type": "code",
   "execution_count": 16,
   "id": "31fc7acb",
   "metadata": {},
   "outputs": [
    {
     "data": {
      "text/plain": [
       "array([0, 1, 1, 0, 0, 1, 1, 1, 1, 0, 1, 1, 1, 0, 0, 1, 0, 0, 1, 1, 1, 1,\n",
       "       0, 0, 1, 1, 1, 1, 1, 1, 0, 1, 0, 1, 1, 1, 0, 1, 0, 0, 0, 1, 1, 0,\n",
       "       1, 0, 1, 0, 0, 0, 0, 1, 0, 0, 1, 0, 0, 1, 0, 1, 0, 1, 1, 1, 1, 0,\n",
       "       0, 0, 1, 0, 1, 1, 0, 1, 1, 1, 0, 1, 1, 1, 0, 1, 1, 0, 1, 1, 0, 1,\n",
       "       1, 1, 0, 0, 1, 1, 0, 1, 1, 0, 1, 1, 1, 0, 1, 0, 0, 1, 1, 1, 0, 0,\n",
       "       0, 0, 0, 1, 0, 0, 1, 0, 1, 1, 1, 0, 0, 0, 1, 0, 1, 0, 1, 1, 1, 0,\n",
       "       1, 0, 0, 0, 1, 0, 0, 0, 1, 1, 1, 1, 1, 0, 0, 0, 0, 1, 1, 1, 1, 1,\n",
       "       1, 0, 1, 1, 0, 1, 0, 1, 1, 1, 1, 0, 0, 0], dtype=int64)"
      ]
     },
     "execution_count": 16,
     "metadata": {},
     "output_type": "execute_result"
    }
   ],
   "source": [
    "y"
   ]
  },
  {
   "cell_type": "code",
   "execution_count": 18,
   "id": "e1b188cf",
   "metadata": {},
   "outputs": [],
   "source": [
    "from sklearn.model_selection import train_test_split"
   ]
  },
  {
   "cell_type": "code",
   "execution_count": 19,
   "id": "b79d4e78",
   "metadata": {},
   "outputs": [],
   "source": [
    "X_train,X_test,y_train,y_test = train_test_split(X,y,test_size=0.2,random_state=0)"
   ]
  },
  {
   "cell_type": "code",
   "execution_count": 20,
   "id": "2c2de9d0",
   "metadata": {},
   "outputs": [
    {
     "data": {
      "text/plain": [
       "(134, 1)"
      ]
     },
     "execution_count": 20,
     "metadata": {},
     "output_type": "execute_result"
    }
   ],
   "source": [
    "X_train.shape"
   ]
  },
  {
   "cell_type": "code",
   "execution_count": 21,
   "id": "c9aedb46",
   "metadata": {},
   "outputs": [
    {
     "data": {
      "text/plain": [
       "(34, 1)"
      ]
     },
     "execution_count": 21,
     "metadata": {},
     "output_type": "execute_result"
    }
   ],
   "source": [
    "X_test.shape"
   ]
  },
  {
   "cell_type": "code",
   "execution_count": 22,
   "id": "e2627104",
   "metadata": {},
   "outputs": [],
   "source": [
    "from sklearn.linear_model import LogisticRegression"
   ]
  },
  {
   "cell_type": "code",
   "execution_count": 23,
   "id": "0f35e5e3",
   "metadata": {},
   "outputs": [],
   "source": [
    "model = LogisticRegression()"
   ]
  },
  {
   "cell_type": "code",
   "execution_count": 24,
   "id": "de608c48",
   "metadata": {},
   "outputs": [
    {
     "data": {
      "text/plain": [
       "LogisticRegression()"
      ]
     },
     "execution_count": 24,
     "metadata": {},
     "output_type": "execute_result"
    }
   ],
   "source": [
    "model.fit(X_train,y_train)"
   ]
  },
  {
   "cell_type": "code",
   "execution_count": 25,
   "id": "ba58cab9",
   "metadata": {},
   "outputs": [
    {
     "data": {
      "text/plain": [
       "array([[1933],\n",
       "       [1670],\n",
       "       [1430],\n",
       "       [1550],\n",
       "       [1775],\n",
       "       [2050],\n",
       "       [1887],\n",
       "       [1755],\n",
       "       [1473],\n",
       "       [1502],\n",
       "       [1934],\n",
       "       [1494],\n",
       "       [1850],\n",
       "       [1531],\n",
       "       [1794],\n",
       "       [1414],\n",
       "       [1855],\n",
       "       [1550],\n",
       "       [1557],\n",
       "       [1843],\n",
       "       [1824],\n",
       "       [1769],\n",
       "       [1956],\n",
       "       [1524],\n",
       "       [1385],\n",
       "       [1832],\n",
       "       [1634],\n",
       "       [1773],\n",
       "       [1487],\n",
       "       [2020],\n",
       "       [1893],\n",
       "       [1481],\n",
       "       [1508],\n",
       "       [1872]], dtype=int64)"
      ]
     },
     "execution_count": 25,
     "metadata": {},
     "output_type": "execute_result"
    }
   ],
   "source": [
    "X_test"
   ]
  },
  {
   "cell_type": "code",
   "execution_count": 26,
   "id": "4ea90cda",
   "metadata": {},
   "outputs": [
    {
     "data": {
      "text/plain": [
       "array([1, 0, 0, 0, 1, 1, 1, 1, 0, 0, 1, 0, 1, 0, 1, 0, 1, 0, 0, 1, 1, 1,\n",
       "       1, 0, 0, 1, 1, 1, 0, 1, 1, 0, 0, 1], dtype=int64)"
      ]
     },
     "execution_count": 26,
     "metadata": {},
     "output_type": "execute_result"
    }
   ],
   "source": [
    "y_test"
   ]
  },
  {
   "cell_type": "code",
   "execution_count": 27,
   "id": "aa4e772f",
   "metadata": {},
   "outputs": [],
   "source": [
    "y_pred = model.predict(X_test)"
   ]
  },
  {
   "cell_type": "code",
   "execution_count": 28,
   "id": "8ac1b200",
   "metadata": {},
   "outputs": [
    {
     "data": {
      "text/plain": [
       "array([1, 1, 0, 0, 1, 1, 1, 1, 0, 0, 1, 0, 1, 0, 1, 0, 1, 0, 0, 1, 1, 1,\n",
       "       1, 0, 0, 1, 0, 1, 0, 1, 1, 0, 0, 1], dtype=int64)"
      ]
     },
     "execution_count": 28,
     "metadata": {},
     "output_type": "execute_result"
    }
   ],
   "source": [
    "y_pred"
   ]
  },
  {
   "cell_type": "code",
   "execution_count": 29,
   "id": "f03d5ff9",
   "metadata": {},
   "outputs": [
    {
     "data": {
      "text/plain": [
       "0.9411764705882353"
      ]
     },
     "execution_count": 29,
     "metadata": {},
     "output_type": "execute_result"
    }
   ],
   "source": [
    "model.score(X_test,y_test)"
   ]
  },
  {
   "cell_type": "code",
   "execution_count": null,
   "id": "98747e9e",
   "metadata": {},
   "outputs": [],
   "source": [
    "#confussion metrix, classification report"
   ]
  },
  {
   "cell_type": "code",
   "execution_count": 30,
   "id": "9524f8eb",
   "metadata": {},
   "outputs": [],
   "source": [
    "from sklearn.metrics import confusion_matrix, classification_report"
   ]
  },
  {
   "cell_type": "code",
   "execution_count": 31,
   "id": "bb609543",
   "metadata": {},
   "outputs": [
    {
     "name": "stdout",
     "output_type": "stream",
     "text": [
      "[[14  1]\n",
      " [ 1 18]]\n"
     ]
    }
   ],
   "source": [
    "print(confusion_matrix(y_test,y_pred))"
   ]
  },
  {
   "cell_type": "code",
   "execution_count": 32,
   "id": "9797e33a",
   "metadata": {},
   "outputs": [
    {
     "name": "stdout",
     "output_type": "stream",
     "text": [
      "              precision    recall  f1-score   support\n",
      "\n",
      "           0       0.93      0.93      0.93        15\n",
      "           1       0.95      0.95      0.95        19\n",
      "\n",
      "    accuracy                           0.94        34\n",
      "   macro avg       0.94      0.94      0.94        34\n",
      "weighted avg       0.94      0.94      0.94        34\n",
      "\n"
     ]
    }
   ],
   "source": [
    "print(classification_report(y_test,y_pred))"
   ]
  },
  {
   "cell_type": "code",
   "execution_count": null,
   "id": "65d3ca92",
   "metadata": {},
   "outputs": [],
   "source": []
  }
 ],
 "metadata": {
  "kernelspec": {
   "display_name": "Python 3 (ipykernel)",
   "language": "python",
   "name": "python3"
  },
  "language_info": {
   "codemirror_mode": {
    "name": "ipython",
    "version": 3
   },
   "file_extension": ".py",
   "mimetype": "text/x-python",
   "name": "python",
   "nbconvert_exporter": "python",
   "pygments_lexer": "ipython3",
   "version": "3.9.7"
  }
 },
 "nbformat": 4,
 "nbformat_minor": 5
}
