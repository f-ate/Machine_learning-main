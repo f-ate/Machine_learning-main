{
 "cells": [
  {
   "cell_type": "code",
   "execution_count": 1,
   "id": "3da5576d",
   "metadata": {},
   "outputs": [],
   "source": [
    "import numpy as np\n",
    "import pandas as pd\n",
    "import matplotlib.pyplot as plt\n",
    "import seaborn as sns\n",
    "sns.set_style('whitegrid')"
   ]
  },
  {
   "cell_type": "code",
   "execution_count": 2,
   "id": "2f665b2c",
   "metadata": {},
   "outputs": [],
   "source": [
    "data = pd.read_csv('sat.csv')"
   ]
  },
  {
   "cell_type": "code",
   "execution_count": 3,
   "id": "e30e66d4",
   "metadata": {},
   "outputs": [
    {
     "data": {
      "text/html": [
       "<div>\n",
       "<style scoped>\n",
       "    .dataframe tbody tr th:only-of-type {\n",
       "        vertical-align: middle;\n",
       "    }\n",
       "\n",
       "    .dataframe tbody tr th {\n",
       "        vertical-align: top;\n",
       "    }\n",
       "\n",
       "    .dataframe thead th {\n",
       "        text-align: right;\n",
       "    }\n",
       "</style>\n",
       "<table border=\"1\" class=\"dataframe\">\n",
       "  <thead>\n",
       "    <tr style=\"text-align: right;\">\n",
       "      <th></th>\n",
       "      <th>SAT</th>\n",
       "      <th>GPA</th>\n",
       "    </tr>\n",
       "  </thead>\n",
       "  <tbody>\n",
       "    <tr>\n",
       "      <th>0</th>\n",
       "      <td>1714</td>\n",
       "      <td>2.40</td>\n",
       "    </tr>\n",
       "    <tr>\n",
       "      <th>1</th>\n",
       "      <td>1664</td>\n",
       "      <td>2.52</td>\n",
       "    </tr>\n",
       "    <tr>\n",
       "      <th>2</th>\n",
       "      <td>1760</td>\n",
       "      <td>2.54</td>\n",
       "    </tr>\n",
       "    <tr>\n",
       "      <th>3</th>\n",
       "      <td>1685</td>\n",
       "      <td>2.74</td>\n",
       "    </tr>\n",
       "    <tr>\n",
       "      <th>4</th>\n",
       "      <td>1693</td>\n",
       "      <td>2.83</td>\n",
       "    </tr>\n",
       "    <tr>\n",
       "      <th>...</th>\n",
       "      <td>...</td>\n",
       "      <td>...</td>\n",
       "    </tr>\n",
       "    <tr>\n",
       "      <th>79</th>\n",
       "      <td>1936</td>\n",
       "      <td>3.71</td>\n",
       "    </tr>\n",
       "    <tr>\n",
       "      <th>80</th>\n",
       "      <td>1810</td>\n",
       "      <td>3.71</td>\n",
       "    </tr>\n",
       "    <tr>\n",
       "      <th>81</th>\n",
       "      <td>1987</td>\n",
       "      <td>3.73</td>\n",
       "    </tr>\n",
       "    <tr>\n",
       "      <th>82</th>\n",
       "      <td>1962</td>\n",
       "      <td>3.76</td>\n",
       "    </tr>\n",
       "    <tr>\n",
       "      <th>83</th>\n",
       "      <td>2050</td>\n",
       "      <td>3.81</td>\n",
       "    </tr>\n",
       "  </tbody>\n",
       "</table>\n",
       "<p>84 rows × 2 columns</p>\n",
       "</div>"
      ],
      "text/plain": [
       "     SAT   GPA\n",
       "0   1714  2.40\n",
       "1   1664  2.52\n",
       "2   1760  2.54\n",
       "3   1685  2.74\n",
       "4   1693  2.83\n",
       "..   ...   ...\n",
       "79  1936  3.71\n",
       "80  1810  3.71\n",
       "81  1987  3.73\n",
       "82  1962  3.76\n",
       "83  2050  3.81\n",
       "\n",
       "[84 rows x 2 columns]"
      ]
     },
     "execution_count": 3,
     "metadata": {},
     "output_type": "execute_result"
    }
   ],
   "source": [
    "data"
   ]
  },
  {
   "cell_type": "code",
   "execution_count": 4,
   "id": "ae3c3db0",
   "metadata": {},
   "outputs": [
    {
     "data": {
      "image/png": "[encoded data removed]",
      "text/plain": [
       "<Figure size 432x288 with 1 Axes>"
      ]
     },
     "metadata": {},
     "output_type": "display_data"
    }
   ],
   "source": [
    "plt.scatter(data['SAT'],data['GPA'])\n",
    "plt.xlabel('SAT')\n",
    "plt.ylabel('GPA')\n",
    "plt.show()"
   ]
  },
  {
   "cell_type": "code",
   "execution_count": 5,
   "id": "f164649b",
   "metadata": {},
   "outputs": [],
   "source": [
    "x = data['SAT']"
   ]
  },
  {
   "cell_type": "code",
   "execution_count": 6,
   "id": "39034d82",
   "metadata": {},
   "outputs": [
    {
     "data": {
      "text/plain": [
       "0     1714\n",
       "1     1664\n",
       "2     1760\n",
       "3     1685\n",
       "4     1693\n",
       "      ... \n",
       "79    1936\n",
       "80    1810\n",
       "81    1987\n",
       "82    1962\n",
       "83    2050\n",
       "Name: SAT, Length: 84, dtype: int64"
      ]
     },
     "execution_count": 6,
     "metadata": {},
     "output_type": "execute_result"
    }
   ],
   "source": [
    "x"
   ]
  },
  {
   "cell_type": "code",
   "execution_count": 7,
   "id": "963539cc",
   "metadata": {},
   "outputs": [
    {
     "data": {
      "text/plain": [
       "pandas.core.series.Series"
      ]
     },
     "execution_count": 7,
     "metadata": {},
     "output_type": "execute_result"
    }
   ],
   "source": [
    "type(x)"
   ]
  },
  {
   "cell_type": "code",
   "execution_count": 8,
   "id": "96729b0e",
   "metadata": {},
   "outputs": [],
   "source": [
    "x = np.array(x)"
   ]
  },
  {
   "cell_type": "code",
   "execution_count": 9,
   "id": "90d65481",
   "metadata": {},
   "outputs": [
    {
     "data": {
      "text/plain": [
       "numpy.ndarray"
      ]
     },
     "execution_count": 9,
     "metadata": {},
     "output_type": "execute_result"
    }
   ],
   "source": [
    "type(x)"
   ]
  },
  {
   "cell_type": "code",
   "execution_count": 10,
   "id": "4d917de7",
   "metadata": {},
   "outputs": [
    {
     "data": {
      "text/plain": [
       "(84,)"
      ]
     },
     "execution_count": 10,
     "metadata": {},
     "output_type": "execute_result"
    }
   ],
   "source": [
    "x.shape"
   ]
  },
  {
   "cell_type": "code",
   "execution_count": 11,
   "id": "3d7759ca",
   "metadata": {},
   "outputs": [
    {
     "data": {
      "text/plain": [
       "array([1714, 1664, 1760, 1685, 1693, 1670, 1764, 1764, 1792, 1850, 1735,\n",
       "       1775, 1735, 1712, 1773, 1872, 1755, 1674, 1842, 1786, 1761, 1722,\n",
       "       1663, 1687, 1974, 1826, 1787, 1821, 2020, 1794, 1769, 1934, 1775,\n",
       "       1855, 1880, 1849, 1808, 1954, 1777, 1831, 1865, 1850, 1966, 1702,\n",
       "       1990, 1925, 1824, 1956, 1857, 1979, 1802, 1855, 1907, 1634, 1879,\n",
       "       1887, 1730, 1953, 1781, 1891, 1964, 1808, 1893, 2041, 1893, 1832,\n",
       "       1850, 1934, 1861, 1931, 1933, 1778, 1975, 1934, 2021, 2015, 1997,\n",
       "       2020, 1843, 1936, 1810, 1987, 1962, 2050], dtype=int64)"
      ]
     },
     "execution_count": 11,
     "metadata": {},
     "output_type": "execute_result"
    }
   ],
   "source": [
    "x"
   ]
  },
  {
   "cell_type": "code",
   "execution_count": 12,
   "id": "28ffeb8f",
   "metadata": {},
   "outputs": [],
   "source": [
    "x = x.reshape(84,1)"
   ]
  },
  {
   "cell_type": "code",
   "execution_count": 13,
   "id": "7c79a5ae",
   "metadata": {},
   "outputs": [
    {
     "data": {
      "text/plain": [
       "array([[1714],\n",
       "       [1664],\n",
       "       [1760],\n",
       "       [1685],\n",
       "       [1693],\n",
       "       [1670],\n",
       "       [1764],\n",
       "       [1764],\n",
       "       [1792],\n",
       "       [1850],\n",
       "       [1735],\n",
       "       [1775],\n",
       "       [1735],\n",
       "       [1712],\n",
       "       [1773],\n",
       "       [1872],\n",
       "       [1755],\n",
       "       [1674],\n",
       "       [1842],\n",
       "       [1786],\n",
       "       [1761],\n",
       "       [1722],\n",
       "       [1663],\n",
       "       [1687],\n",
       "       [1974],\n",
       "       [1826],\n",
       "       [1787],\n",
       "       [1821],\n",
       "       [2020],\n",
       "       [1794],\n",
       "       [1769],\n",
       "       [1934],\n",
       "       [1775],\n",
       "       [1855],\n",
       "       [1880],\n",
       "       [1849],\n",
       "       [1808],\n",
       "       [1954],\n",
       "       [1777],\n",
       "       [1831],\n",
       "       [1865],\n",
       "       [1850],\n",
       "       [1966],\n",
       "       [1702],\n",
       "       [1990],\n",
       "       [1925],\n",
       "       [1824],\n",
       "       [1956],\n",
       "       [1857],\n",
       "       [1979],\n",
       "       [1802],\n",
       "       [1855],\n",
       "       [1907],\n",
       "       [1634],\n",
       "       [1879],\n",
       "       [1887],\n",
       "       [1730],\n",
       "       [1953],\n",
       "       [1781],\n",
       "       [1891],\n",
       "       [1964],\n",
       "       [1808],\n",
       "       [1893],\n",
       "       [2041],\n",
       "       [1893],\n",
       "       [1832],\n",
       "       [1850],\n",
       "       [1934],\n",
       "       [1861],\n",
       "       [1931],\n",
       "       [1933],\n",
       "       [1778],\n",
       "       [1975],\n",
       "       [1934],\n",
       "       [2021],\n",
       "       [2015],\n",
       "       [1997],\n",
       "       [2020],\n",
       "       [1843],\n",
       "       [1936],\n",
       "       [1810],\n",
       "       [1987],\n",
       "       [1962],\n",
       "       [2050]], dtype=int64)"
      ]
     },
     "execution_count": 13,
     "metadata": {},
     "output_type": "execute_result"
    }
   ],
   "source": [
    "x"
   ]
  },
  {
   "cell_type": "code",
   "execution_count": 14,
   "id": "dc2d6866",
   "metadata": {},
   "outputs": [
    {
     "data": {
      "text/plain": [
       "(84, 1)"
      ]
     },
     "execution_count": 14,
     "metadata": {},
     "output_type": "execute_result"
    }
   ],
   "source": [
    "x.shape"
   ]
  },
  {
   "cell_type": "code",
   "execution_count": 15,
   "id": "b720b210",
   "metadata": {},
   "outputs": [],
   "source": [
    "y = data['GPA']"
   ]
  },
  {
   "cell_type": "code",
   "execution_count": 16,
   "id": "65153f69",
   "metadata": {},
   "outputs": [],
   "source": [
    "from sklearn.linear_model import LinearRegression"
   ]
  },
  {
   "cell_type": "code",
   "execution_count": 17,
   "id": "2bdb8815",
   "metadata": {},
   "outputs": [],
   "source": [
    "model = LinearRegression()"
   ]
  },
  {
   "cell_type": "code",
   "execution_count": 18,
   "id": "1fe63e35",
   "metadata": {},
   "outputs": [
    {
     "data": {
      "text/plain": [
       "LinearRegression()"
      ]
     },
     "execution_count": 18,
     "metadata": {},
     "output_type": "execute_result"
    }
   ],
   "source": [
    "model.fit(x,y)"
   ]
  },
  {
   "cell_type": "code",
   "execution_count": 19,
   "id": "8c942994",
   "metadata": {},
   "outputs": [
    {
     "data": {
      "text/plain": [
       "0.2750402996602803"
      ]
     },
     "execution_count": 19,
     "metadata": {},
     "output_type": "execute_result"
    }
   ],
   "source": [
    "#b0\n",
    "model.intercept_"
   ]
  },
  {
   "cell_type": "code",
   "execution_count": 20,
   "id": "dbfc6fea",
   "metadata": {},
   "outputs": [
    {
     "data": {
      "text/plain": [
       "array([0.00165569])"
      ]
     },
     "execution_count": 20,
     "metadata": {},
     "output_type": "execute_result"
    }
   ],
   "source": [
    "#b1\n",
    "model.coef_"
   ]
  },
  {
   "cell_type": "code",
   "execution_count": 21,
   "id": "89a56135",
   "metadata": {},
   "outputs": [
    {
     "data": {
      "image/png": "[encoded data removed]",
      "text/plain": [
       "<Figure size 432x288 with 1 Axes>"
      ]
     },
     "metadata": {},
     "output_type": "display_data"
    }
   ],
   "source": [
    "plt.scatter(data['SAT'],data['GPA'])\n",
    "plt.plot(x,model.predict(x),color='green')\n",
    "plt.xlabel('SAT')\n",
    "plt.ylabel('GPA')\n",
    "plt.show()"
   ]
  },
  {
   "cell_type": "code",
   "execution_count": 22,
   "id": "a0a729c7",
   "metadata": {},
   "outputs": [
    {
     "data": {
      "image/png": "[encoded data removed]",
      "text/plain": [
       "<Figure size 432x288 with 1 Axes>"
      ]
     },
     "metadata": {},
     "output_type": "display_data"
    }
   ],
   "source": [
    "y_hat = 0.2750402996602803+0.00165569*x\n",
    "plt.scatter(data['SAT'],data['GPA'])\n",
    "plt.plot(x,y_hat,color='green')\n",
    "plt.xlabel('SAT')\n",
    "plt.ylabel('GPA')\n",
    "plt.show()"
   ]
  },
  {
   "cell_type": "code",
   "execution_count": 23,
   "id": "94668d8d",
   "metadata": {},
   "outputs": [
    {
     "data": {
      "text/plain": [
       "0.40600391479679765"
      ]
     },
     "execution_count": 23,
     "metadata": {},
     "output_type": "execute_result"
    }
   ],
   "source": [
    "model.score(x,y)"
   ]
  },
  {
   "cell_type": "code",
   "execution_count": 24,
   "id": "c694cfd2",
   "metadata": {},
   "outputs": [],
   "source": [
    "# svr"
   ]
  },
  {
   "cell_type": "code",
   "execution_count": 25,
   "id": "48783f10",
   "metadata": {},
   "outputs": [],
   "source": [
    "from sklearn.svm import SVR"
   ]
  },
  {
   "cell_type": "code",
   "execution_count": 26,
   "id": "95556ddd",
   "metadata": {},
   "outputs": [],
   "source": [
    "model = SVR()"
   ]
  },
  {
   "cell_type": "code",
   "execution_count": 27,
   "id": "b97c70cf",
   "metadata": {},
   "outputs": [
    {
     "data": {
      "text/plain": [
       "SVR()"
      ]
     },
     "execution_count": 27,
     "metadata": {},
     "output_type": "execute_result"
    }
   ],
   "source": [
    "model.fit(x,y)"
   ]
  },
  {
   "cell_type": "code",
   "execution_count": 28,
   "id": "e3ea4dca",
   "metadata": {},
   "outputs": [
    {
     "data": {
      "text/plain": [
       "0.46288903062752007"
      ]
     },
     "execution_count": 28,
     "metadata": {},
     "output_type": "execute_result"
    }
   ],
   "source": [
    "model.score(x,y)"
   ]
  },
  {
   "cell_type": "code",
   "execution_count": null,
   "id": "faf9a896",
   "metadata": {},
   "outputs": [],
   "source": []
  }
 ],
 "metadata": {
  "kernelspec": {
   "display_name": "Python 3 (ipykernel)",
   "language": "python",
   "name": "python3"
  },
  "language_info": {
   "codemirror_mode": {
    "name": "ipython",
    "version": 3
   },
   "file_extension": ".py",
   "mimetype": "text/x-python",
   "name": "python",
   "nbconvert_exporter": "python",
   "pygments_lexer": "ipython3",
   "version": "3.9.7"
  }
 },
 "nbformat": 4,
 "nbformat_minor": 5
}
