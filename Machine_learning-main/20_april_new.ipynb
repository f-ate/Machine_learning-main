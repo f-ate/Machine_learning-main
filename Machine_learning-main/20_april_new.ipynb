{
 "cells": [
  {
   "cell_type": "code",
   "execution_count": 1,
   "id": "80b18793",
   "metadata": {},
   "outputs": [],
   "source": [
    "A = 20"
   ]
  },
  {
   "cell_type": "code",
   "execution_count": 2,
   "id": "958d46d8",
   "metadata": {},
   "outputs": [
    {
     "data": {
      "text/plain": [
       "20"
      ]
     },
     "execution_count": 2,
     "metadata": {},
     "output_type": "execute_result"
    }
   ],
   "source": [
    "A"
   ]
  },
  {
   "cell_type": "code",
   "execution_count": 3,
   "id": "87b8e9f9",
   "metadata": {},
   "outputs": [],
   "source": [
    "B = 29.1"
   ]
  },
  {
   "cell_type": "code",
   "execution_count": 4,
   "id": "200f3286",
   "metadata": {},
   "outputs": [
    {
     "data": {
      "text/plain": [
       "29.1"
      ]
     },
     "execution_count": 4,
     "metadata": {},
     "output_type": "execute_result"
    }
   ],
   "source": [
    "B"
   ]
  },
  {
   "cell_type": "code",
   "execution_count": 5,
   "id": "834d0ec9",
   "metadata": {},
   "outputs": [],
   "source": [
    "C = 'surbhi'"
   ]
  },
  {
   "cell_type": "code",
   "execution_count": 6,
   "id": "fb2bbf15",
   "metadata": {},
   "outputs": [
    {
     "data": {
      "text/plain": [
       "'surbhi'"
      ]
     },
     "execution_count": 6,
     "metadata": {},
     "output_type": "execute_result"
    }
   ],
   "source": [
    "C"
   ]
  },
  {
   "cell_type": "code",
   "execution_count": 7,
   "id": "6e2cbfc6",
   "metadata": {},
   "outputs": [
    {
     "data": {
      "text/plain": [
       "int"
      ]
     },
     "execution_count": 7,
     "metadata": {},
     "output_type": "execute_result"
    }
   ],
   "source": [
    "type(A)"
   ]
  },
  {
   "cell_type": "code",
   "execution_count": 8,
   "id": "51977642",
   "metadata": {},
   "outputs": [
    {
     "data": {
      "text/plain": [
       "float"
      ]
     },
     "execution_count": 8,
     "metadata": {},
     "output_type": "execute_result"
    }
   ],
   "source": [
    "type(B)"
   ]
  },
  {
   "cell_type": "code",
   "execution_count": 9,
   "id": "fc332963",
   "metadata": {},
   "outputs": [
    {
     "data": {
      "text/plain": [
       "str"
      ]
     },
     "execution_count": 9,
     "metadata": {},
     "output_type": "execute_result"
    }
   ],
   "source": [
    "type(C)"
   ]
  },
  {
   "cell_type": "code",
   "execution_count": 10,
   "id": "1ad07380",
   "metadata": {},
   "outputs": [],
   "source": [
    "lst = [2,4,34,67,89]"
   ]
  },
  {
   "cell_type": "code",
   "execution_count": 11,
   "id": "a38bac47",
   "metadata": {},
   "outputs": [
    {
     "data": {
      "text/plain": [
       "[2, 4, 34, 67, 89]"
      ]
     },
     "execution_count": 11,
     "metadata": {},
     "output_type": "execute_result"
    }
   ],
   "source": [
    "lst"
   ]
  },
  {
   "cell_type": "code",
   "execution_count": 12,
   "id": "e671bec9",
   "metadata": {},
   "outputs": [
    {
     "data": {
      "text/plain": [
       "5"
      ]
     },
     "execution_count": 12,
     "metadata": {},
     "output_type": "execute_result"
    }
   ],
   "source": [
    "len(lst)"
   ]
  },
  {
   "cell_type": "code",
   "execution_count": 13,
   "id": "e016a662",
   "metadata": {},
   "outputs": [
    {
     "data": {
      "text/plain": [
       "34"
      ]
     },
     "execution_count": 13,
     "metadata": {},
     "output_type": "execute_result"
    }
   ],
   "source": [
    "lst[2]"
   ]
  },
  {
   "cell_type": "code",
   "execution_count": 15,
   "id": "709f3296",
   "metadata": {},
   "outputs": [],
   "source": [
    "# Set doesnot take duplicates"
   ]
  },
  {
   "cell_type": "code",
   "execution_count": 16,
   "id": "890b59e9",
   "metadata": {},
   "outputs": [],
   "source": [
    "lst1 = [4,5,5,5,6,6,8,9,9,9]"
   ]
  },
  {
   "cell_type": "code",
   "execution_count": 17,
   "id": "a113a99d",
   "metadata": {},
   "outputs": [
    {
     "data": {
      "text/plain": [
       "10"
      ]
     },
     "execution_count": 17,
     "metadata": {},
     "output_type": "execute_result"
    }
   ],
   "source": [
    "len(lst1)"
   ]
  },
  {
   "cell_type": "code",
   "execution_count": 18,
   "id": "9fdecc29",
   "metadata": {},
   "outputs": [
    {
     "data": {
      "text/plain": [
       "[4, 5, 5, 5, 6, 6, 8, 9, 9, 9]"
      ]
     },
     "execution_count": 18,
     "metadata": {},
     "output_type": "execute_result"
    }
   ],
   "source": [
    "lst1"
   ]
  },
  {
   "cell_type": "code",
   "execution_count": 19,
   "id": "f28c1226",
   "metadata": {},
   "outputs": [],
   "source": [
    "s = {4,5,5,5,6,6,8,9,9,9}"
   ]
  },
  {
   "cell_type": "code",
   "execution_count": 20,
   "id": "f2c17c4e",
   "metadata": {},
   "outputs": [
    {
     "data": {
      "text/plain": [
       "{4, 5, 6, 8, 9}"
      ]
     },
     "execution_count": 20,
     "metadata": {},
     "output_type": "execute_result"
    }
   ],
   "source": [
    "s"
   ]
  },
  {
   "cell_type": "code",
   "execution_count": 21,
   "id": "94c0189d",
   "metadata": {},
   "outputs": [],
   "source": [
    "lst2 = [4,4,4,4,5,5,5,5,6,6,6,6,6]"
   ]
  },
  {
   "cell_type": "code",
   "execution_count": 22,
   "id": "0b4c99a7",
   "metadata": {},
   "outputs": [
    {
     "data": {
      "text/plain": [
       "[4, 4, 4, 4, 5, 5, 5, 5, 6, 6, 6, 6, 6]"
      ]
     },
     "execution_count": 22,
     "metadata": {},
     "output_type": "execute_result"
    }
   ],
   "source": [
    "lst2"
   ]
  },
  {
   "cell_type": "code",
   "execution_count": 23,
   "id": "593fe899",
   "metadata": {},
   "outputs": [
    {
     "data": {
      "text/plain": [
       "[4, 4, 4, 4, 5, 5, 5, 5, 6, 6, 6, 6, 6]"
      ]
     },
     "execution_count": 23,
     "metadata": {},
     "output_type": "execute_result"
    }
   ],
   "source": [
    "lst2"
   ]
  },
  {
   "cell_type": "code",
   "execution_count": 24,
   "id": "1f1ab4a7",
   "metadata": {},
   "outputs": [],
   "source": [
    "s1 = set(lst2)"
   ]
  },
  {
   "cell_type": "code",
   "execution_count": 25,
   "id": "9b937b57",
   "metadata": {},
   "outputs": [
    {
     "data": {
      "text/plain": [
       "{4, 5, 6}"
      ]
     },
     "execution_count": 25,
     "metadata": {},
     "output_type": "execute_result"
    }
   ],
   "source": [
    "s1"
   ]
  },
  {
   "cell_type": "code",
   "execution_count": 26,
   "id": "61928208",
   "metadata": {},
   "outputs": [
    {
     "data": {
      "text/plain": [
       "set"
      ]
     },
     "execution_count": 26,
     "metadata": {},
     "output_type": "execute_result"
    }
   ],
   "source": [
    "type(s1)"
   ]
  },
  {
   "cell_type": "code",
   "execution_count": 27,
   "id": "c05438be",
   "metadata": {},
   "outputs": [],
   "source": [
    "lst3 = list(s1)"
   ]
  },
  {
   "cell_type": "code",
   "execution_count": 28,
   "id": "2db6261e",
   "metadata": {},
   "outputs": [
    {
     "data": {
      "text/plain": [
       "[4, 5, 6]"
      ]
     },
     "execution_count": 28,
     "metadata": {},
     "output_type": "execute_result"
    }
   ],
   "source": [
    "lst3"
   ]
  },
  {
   "cell_type": "code",
   "execution_count": 29,
   "id": "60664b78",
   "metadata": {},
   "outputs": [],
   "source": [
    "# Tuple"
   ]
  },
  {
   "cell_type": "code",
   "execution_count": 30,
   "id": "fbc74a9c",
   "metadata": {},
   "outputs": [],
   "source": [
    "t = (4,5,5,6,8,9)"
   ]
  },
  {
   "cell_type": "code",
   "execution_count": 31,
   "id": "7d891997",
   "metadata": {},
   "outputs": [
    {
     "data": {
      "text/plain": [
       "(4, 5, 5, 6, 8, 9)"
      ]
     },
     "execution_count": 31,
     "metadata": {},
     "output_type": "execute_result"
    }
   ],
   "source": [
    "t"
   ]
  },
  {
   "cell_type": "code",
   "execution_count": 32,
   "id": "24b98f02",
   "metadata": {},
   "outputs": [
    {
     "data": {
      "text/plain": [
       "tuple"
      ]
     },
     "execution_count": 32,
     "metadata": {},
     "output_type": "execute_result"
    }
   ],
   "source": [
    "type(t)"
   ]
  },
  {
   "cell_type": "code",
   "execution_count": 33,
   "id": "da1c6734",
   "metadata": {},
   "outputs": [
    {
     "data": {
      "text/plain": [
       "5"
      ]
     },
     "execution_count": 33,
     "metadata": {},
     "output_type": "execute_result"
    }
   ],
   "source": [
    "t[2]"
   ]
  },
  {
   "cell_type": "code",
   "execution_count": 35,
   "id": "f8ae80e9",
   "metadata": {},
   "outputs": [],
   "source": [
    "# t[2] = 7"
   ]
  },
  {
   "cell_type": "code",
   "execution_count": 36,
   "id": "2703f34e",
   "metadata": {},
   "outputs": [
    {
     "data": {
      "text/plain": [
       "[4, 5, 5, 5, 6, 6, 8, 9, 9, 9]"
      ]
     },
     "execution_count": 36,
     "metadata": {},
     "output_type": "execute_result"
    }
   ],
   "source": [
    "lst1"
   ]
  },
  {
   "cell_type": "code",
   "execution_count": 37,
   "id": "ec5b9b45",
   "metadata": {},
   "outputs": [],
   "source": [
    "lst1[2] = 'surbhi'"
   ]
  },
  {
   "cell_type": "code",
   "execution_count": 38,
   "id": "fa457d21",
   "metadata": {},
   "outputs": [
    {
     "data": {
      "text/plain": [
       "[4, 5, 'surbhi', 5, 6, 6, 8, 9, 9, 9]"
      ]
     },
     "execution_count": 38,
     "metadata": {},
     "output_type": "execute_result"
    }
   ],
   "source": [
    "lst1"
   ]
  },
  {
   "cell_type": "code",
   "execution_count": 39,
   "id": "a7e8b337",
   "metadata": {},
   "outputs": [],
   "source": [
    "# if , eles ,elif"
   ]
  },
  {
   "cell_type": "code",
   "execution_count": 40,
   "id": "2836cd49",
   "metadata": {},
   "outputs": [],
   "source": [
    "if 1==2:\n",
    "    print('hello')"
   ]
  },
  {
   "cell_type": "code",
   "execution_count": 41,
   "id": "879923dc",
   "metadata": {},
   "outputs": [
    {
     "name": "stdout",
     "output_type": "stream",
     "text": [
      "hello\n"
     ]
    }
   ],
   "source": [
    "if 2==2:\n",
    "    print('hello')"
   ]
  },
  {
   "cell_type": "code",
   "execution_count": 42,
   "id": "798e5691",
   "metadata": {},
   "outputs": [],
   "source": [
    "if 5>6:\n",
    "    print('hello')"
   ]
  },
  {
   "cell_type": "code",
   "execution_count": 43,
   "id": "2f634d14",
   "metadata": {},
   "outputs": [
    {
     "name": "stdout",
     "output_type": "stream",
     "text": [
      "hello\n"
     ]
    }
   ],
   "source": [
    "if 5<6:\n",
    "    print('hello')"
   ]
  },
  {
   "cell_type": "code",
   "execution_count": 44,
   "id": "e846b91b",
   "metadata": {},
   "outputs": [
    {
     "name": "stdout",
     "output_type": "stream",
     "text": [
      "hi\n"
     ]
    }
   ],
   "source": [
    "if 1==2:\n",
    "    print('hello')\n",
    "else:\n",
    "    print('hi')"
   ]
  },
  {
   "cell_type": "code",
   "execution_count": 45,
   "id": "cfe178c8",
   "metadata": {},
   "outputs": [
    {
     "name": "stdout",
     "output_type": "stream",
     "text": [
      "hello\n"
     ]
    }
   ],
   "source": [
    "if 2==2:\n",
    "    print('hello')\n",
    "else:\n",
    "    print('hi')"
   ]
  },
  {
   "cell_type": "code",
   "execution_count": 46,
   "id": "059f3de0",
   "metadata": {},
   "outputs": [
    {
     "name": "stdout",
     "output_type": "stream",
     "text": [
      "fenta\n"
     ]
    }
   ],
   "source": [
    "if 1==2:\n",
    "    print('coke')\n",
    "elif 2==2:\n",
    "    print('fenta')\n",
    "else:\n",
    "    print('Any softdrink')"
   ]
  },
  {
   "cell_type": "code",
   "execution_count": 47,
   "id": "a2912321",
   "metadata": {},
   "outputs": [
    {
     "name": "stdout",
     "output_type": "stream",
     "text": [
      "Any softdrink\n"
     ]
    }
   ],
   "source": [
    "if 1==2:\n",
    "    print('coke')\n",
    "elif 2==4:\n",
    "    print('fenta')\n",
    "else:\n",
    "    print('Any softdrink')"
   ]
  },
  {
   "cell_type": "code",
   "execution_count": 48,
   "id": "97a3c2bc",
   "metadata": {},
   "outputs": [
    {
     "name": "stdout",
     "output_type": "stream",
     "text": [
      "fenta\n"
     ]
    }
   ],
   "source": [
    "if 1==2:\n",
    "    print('coke')\n",
    "elif 2==2:\n",
    "    print('fenta')\n",
    "elif 8>5:\n",
    "    print('hello')\n",
    "elif 4<6:\n",
    "    print('hi')\n",
    "else:\n",
    "    print('Any softdrink')"
   ]
  },
  {
   "cell_type": "code",
   "execution_count": 49,
   "id": "927fb0ab",
   "metadata": {},
   "outputs": [],
   "source": [
    "lst = [1,2,3,4,5,6,7,8,9]"
   ]
  },
  {
   "cell_type": "code",
   "execution_count": 50,
   "id": "6af6d768",
   "metadata": {},
   "outputs": [
    {
     "name": "stdout",
     "output_type": "stream",
     "text": [
      "1\n",
      "2\n",
      "3\n",
      "4\n",
      "5\n",
      "6\n",
      "7\n",
      "8\n",
      "9\n"
     ]
    }
   ],
   "source": [
    "for i in lst:\n",
    "    print(i)"
   ]
  },
  {
   "cell_type": "code",
   "execution_count": 52,
   "id": "a0c6f950",
   "metadata": {},
   "outputs": [
    {
     "data": {
      "text/plain": [
       "9"
      ]
     },
     "execution_count": 52,
     "metadata": {},
     "output_type": "execute_result"
    }
   ],
   "source": [
    "3**2"
   ]
  },
  {
   "cell_type": "code",
   "execution_count": 53,
   "id": "f8b5cb21",
   "metadata": {},
   "outputs": [
    {
     "data": {
      "text/plain": [
       "4"
      ]
     },
     "execution_count": 53,
     "metadata": {},
     "output_type": "execute_result"
    }
   ],
   "source": [
    "2**2"
   ]
  },
  {
   "cell_type": "code",
   "execution_count": 54,
   "id": "55c10f07",
   "metadata": {},
   "outputs": [
    {
     "data": {
      "text/plain": [
       "16"
      ]
     },
     "execution_count": 54,
     "metadata": {},
     "output_type": "execute_result"
    }
   ],
   "source": [
    "4**2"
   ]
  },
  {
   "cell_type": "code",
   "execution_count": 55,
   "id": "bca89516",
   "metadata": {},
   "outputs": [],
   "source": [
    "lst = [1,2,3,4,5]"
   ]
  },
  {
   "cell_type": "code",
   "execution_count": 56,
   "id": "ec695cfb",
   "metadata": {},
   "outputs": [
    {
     "name": "stdout",
     "output_type": "stream",
     "text": [
      "1\n",
      "4\n",
      "9\n",
      "16\n",
      "25\n"
     ]
    }
   ],
   "source": [
    "for i in lst:\n",
    "    print(i**2)"
   ]
  },
  {
   "cell_type": "code",
   "execution_count": 57,
   "id": "67e9cc09",
   "metadata": {},
   "outputs": [
    {
     "data": {
      "text/plain": [
       "27"
      ]
     },
     "execution_count": 57,
     "metadata": {},
     "output_type": "execute_result"
    }
   ],
   "source": [
    "3**3"
   ]
  },
  {
   "cell_type": "code",
   "execution_count": 58,
   "id": "e82e7c1c",
   "metadata": {},
   "outputs": [
    {
     "data": {
      "text/plain": [
       "64"
      ]
     },
     "execution_count": 58,
     "metadata": {},
     "output_type": "execute_result"
    }
   ],
   "source": [
    "4**3"
   ]
  },
  {
   "cell_type": "code",
   "execution_count": 59,
   "id": "5276afa8",
   "metadata": {},
   "outputs": [
    {
     "name": "stdout",
     "output_type": "stream",
     "text": [
      "1\n",
      "8\n",
      "27\n",
      "64\n",
      "125\n"
     ]
    }
   ],
   "source": [
    "for i in lst:\n",
    "    print(i**3)"
   ]
  },
  {
   "cell_type": "code",
   "execution_count": 60,
   "id": "56774b53",
   "metadata": {},
   "outputs": [],
   "source": [
    "lst3 = [8,4,5]"
   ]
  },
  {
   "cell_type": "code",
   "execution_count": 61,
   "id": "425fedfe",
   "metadata": {},
   "outputs": [
    {
     "data": {
      "text/plain": [
       "[8, 4, 5]"
      ]
     },
     "execution_count": 61,
     "metadata": {},
     "output_type": "execute_result"
    }
   ],
   "source": [
    "lst3"
   ]
  },
  {
   "cell_type": "code",
   "execution_count": 62,
   "id": "28975ce9",
   "metadata": {},
   "outputs": [],
   "source": [
    "lst3.append(67)"
   ]
  },
  {
   "cell_type": "code",
   "execution_count": 63,
   "id": "0616b6a8",
   "metadata": {},
   "outputs": [
    {
     "data": {
      "text/plain": [
       "[8, 4, 5, 67]"
      ]
     },
     "execution_count": 63,
     "metadata": {},
     "output_type": "execute_result"
    }
   ],
   "source": [
    "lst3"
   ]
  },
  {
   "cell_type": "code",
   "execution_count": 64,
   "id": "50ab9572",
   "metadata": {},
   "outputs": [],
   "source": [
    "lst3.append(90)"
   ]
  },
  {
   "cell_type": "code",
   "execution_count": 65,
   "id": "2958cb81",
   "metadata": {},
   "outputs": [
    {
     "data": {
      "text/plain": [
       "[8, 4, 5, 67, 90]"
      ]
     },
     "execution_count": 65,
     "metadata": {},
     "output_type": "execute_result"
    }
   ],
   "source": [
    "lst3"
   ]
  },
  {
   "cell_type": "code",
   "execution_count": 66,
   "id": "941f5e81",
   "metadata": {},
   "outputs": [],
   "source": [
    "aarti = []"
   ]
  },
  {
   "cell_type": "code",
   "execution_count": 67,
   "id": "83b33985",
   "metadata": {},
   "outputs": [
    {
     "data": {
      "text/plain": [
       "[]"
      ]
     },
     "execution_count": 67,
     "metadata": {},
     "output_type": "execute_result"
    }
   ],
   "source": [
    "aarti"
   ]
  },
  {
   "cell_type": "code",
   "execution_count": 68,
   "id": "6d32e1fc",
   "metadata": {},
   "outputs": [
    {
     "data": {
      "text/plain": [
       "[1, 2, 3, 4, 5]"
      ]
     },
     "execution_count": 68,
     "metadata": {},
     "output_type": "execute_result"
    }
   ],
   "source": [
    "lst"
   ]
  },
  {
   "cell_type": "code",
   "execution_count": 69,
   "id": "b3b22e44",
   "metadata": {},
   "outputs": [],
   "source": [
    "for i in lst:\n",
    "    aarti.append(i**2)"
   ]
  },
  {
   "cell_type": "code",
   "execution_count": 70,
   "id": "3b7f9486",
   "metadata": {},
   "outputs": [
    {
     "data": {
      "text/plain": [
       "[1, 4, 9, 16, 25]"
      ]
     },
     "execution_count": 70,
     "metadata": {},
     "output_type": "execute_result"
    }
   ],
   "source": [
    "aarti"
   ]
  },
  {
   "cell_type": "code",
   "execution_count": 71,
   "id": "8352123c",
   "metadata": {},
   "outputs": [
    {
     "name": "stdout",
     "output_type": "stream",
     "text": [
      "r\n"
     ]
    }
   ],
   "source": [
    "if 3==4:\n",
    "    print('f')\n",
    "else:\n",
    "    print('r')"
   ]
  },
  {
   "cell_type": "code",
   "execution_count": null,
   "id": "91043b51",
   "metadata": {},
   "outputs": [],
   "source": []
  }
 ],
 "metadata": {
  "kernelspec": {
   "display_name": "Python 3 (ipykernel)",
   "language": "python",
   "name": "python3"
  },
  "language_info": {
   "codemirror_mode": {
    "name": "ipython",
    "version": 3
   },
   "file_extension": ".py",
   "mimetype": "text/x-python",
   "name": "python",
   "nbconvert_exporter": "python",
   "pygments_lexer": "ipython3",
   "version": "3.9.7"
  }
 },
 "nbformat": 4,
 "nbformat_minor": 5
}
