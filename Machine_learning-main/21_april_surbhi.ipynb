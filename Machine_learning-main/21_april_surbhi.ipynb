{
 "cells": [
  {
   "cell_type": "code",
   "execution_count": 1,
   "id": "d8c9d9a3",
   "metadata": {},
   "outputs": [
    {
     "name": "stdout",
     "output_type": "stream",
     "text": [
      "surbhi\n"
     ]
    }
   ],
   "source": [
    "print('surbhi')"
   ]
  },
  {
   "cell_type": "code",
   "execution_count": 2,
   "id": "9b48961a",
   "metadata": {},
   "outputs": [
    {
     "name": "stdout",
     "output_type": "stream",
     "text": [
      "helo i am from nagpur\n"
     ]
    }
   ],
   "source": [
    "print('helo i am from nagpur')"
   ]
  },
  {
   "cell_type": "code",
   "execution_count": 3,
   "id": "92df8be3",
   "metadata": {},
   "outputs": [],
   "source": [
    "A = 30"
   ]
  },
  {
   "cell_type": "code",
   "execution_count": 4,
   "id": "c6645033",
   "metadata": {},
   "outputs": [
    {
     "data": {
      "text/plain": [
       "int"
      ]
     },
     "execution_count": 4,
     "metadata": {},
     "output_type": "execute_result"
    }
   ],
   "source": [
    "type(A)"
   ]
  },
  {
   "cell_type": "code",
   "execution_count": 5,
   "id": "eb558a54",
   "metadata": {},
   "outputs": [],
   "source": [
    "B = 4.5"
   ]
  },
  {
   "cell_type": "code",
   "execution_count": 6,
   "id": "48c91f85",
   "metadata": {},
   "outputs": [
    {
     "data": {
      "text/plain": [
       "float"
      ]
     },
     "execution_count": 6,
     "metadata": {},
     "output_type": "execute_result"
    }
   ],
   "source": [
    "type(B)"
   ]
  },
  {
   "cell_type": "code",
   "execution_count": 7,
   "id": "d52ea0f4",
   "metadata": {},
   "outputs": [],
   "source": [
    "C = 'surbhi'"
   ]
  },
  {
   "cell_type": "code",
   "execution_count": 8,
   "id": "df80fe59",
   "metadata": {},
   "outputs": [
    {
     "data": {
      "text/plain": [
       "str"
      ]
     },
     "execution_count": 8,
     "metadata": {},
     "output_type": "execute_result"
    }
   ],
   "source": [
    "type(C)"
   ]
  },
  {
   "cell_type": "code",
   "execution_count": 9,
   "id": "560733fb",
   "metadata": {},
   "outputs": [
    {
     "data": {
      "text/plain": [
       "str"
      ]
     },
     "execution_count": 9,
     "metadata": {},
     "output_type": "execute_result"
    }
   ],
   "source": [
    "type(C)"
   ]
  },
  {
   "cell_type": "code",
   "execution_count": 10,
   "id": "4de79504",
   "metadata": {},
   "outputs": [
    {
     "name": "stdout",
     "output_type": "stream",
     "text": [
      "30\n"
     ]
    }
   ],
   "source": [
    "print(A)"
   ]
  },
  {
   "cell_type": "code",
   "execution_count": 11,
   "id": "e86c7d9b",
   "metadata": {},
   "outputs": [
    {
     "name": "stdout",
     "output_type": "stream",
     "text": [
      "surbhi\n"
     ]
    }
   ],
   "source": [
    "print(C)"
   ]
  },
  {
   "cell_type": "code",
   "execution_count": 12,
   "id": "57340405",
   "metadata": {},
   "outputs": [
    {
     "data": {
      "text/plain": [
       "'surbhi'"
      ]
     },
     "execution_count": 12,
     "metadata": {},
     "output_type": "execute_result"
    }
   ],
   "source": [
    "C"
   ]
  },
  {
   "cell_type": "code",
   "execution_count": 13,
   "id": "ab578882",
   "metadata": {},
   "outputs": [],
   "source": [
    "sur = [15,5,6,8,78,67,95]"
   ]
  },
  {
   "cell_type": "code",
   "execution_count": 14,
   "id": "9e8bea0e",
   "metadata": {},
   "outputs": [
    {
     "data": {
      "text/plain": [
       "[15, 5, 6, 8, 78, 67, 95]"
      ]
     },
     "execution_count": 14,
     "metadata": {},
     "output_type": "execute_result"
    }
   ],
   "source": [
    "sur"
   ]
  },
  {
   "cell_type": "code",
   "execution_count": 15,
   "id": "5c6198b0",
   "metadata": {},
   "outputs": [
    {
     "data": {
      "text/plain": [
       "7"
      ]
     },
     "execution_count": 15,
     "metadata": {},
     "output_type": "execute_result"
    }
   ],
   "source": [
    "len(sur)"
   ]
  },
  {
   "cell_type": "code",
   "execution_count": 16,
   "id": "40fcf131",
   "metadata": {},
   "outputs": [
    {
     "data": {
      "text/plain": [
       "8"
      ]
     },
     "execution_count": 16,
     "metadata": {},
     "output_type": "execute_result"
    }
   ],
   "source": [
    "sur[3]"
   ]
  },
  {
   "cell_type": "code",
   "execution_count": 17,
   "id": "f39388f0",
   "metadata": {},
   "outputs": [
    {
     "data": {
      "text/plain": [
       "67"
      ]
     },
     "execution_count": 17,
     "metadata": {},
     "output_type": "execute_result"
    }
   ],
   "source": [
    "sur[5]"
   ]
  },
  {
   "cell_type": "code",
   "execution_count": 19,
   "id": "ab675a38",
   "metadata": {},
   "outputs": [
    {
     "data": {
      "text/plain": [
       "[6, 8, 78]"
      ]
     },
     "execution_count": 19,
     "metadata": {},
     "output_type": "execute_result"
    }
   ],
   "source": [
    "sur[2:5]"
   ]
  },
  {
   "cell_type": "code",
   "execution_count": 20,
   "id": "16b89b02",
   "metadata": {},
   "outputs": [
    {
     "data": {
      "text/plain": [
       "[8, 78, 67, 95]"
      ]
     },
     "execution_count": 20,
     "metadata": {},
     "output_type": "execute_result"
    }
   ],
   "source": [
    "sur[3:]"
   ]
  },
  {
   "cell_type": "code",
   "execution_count": 21,
   "id": "32e39015",
   "metadata": {},
   "outputs": [
    {
     "data": {
      "text/plain": [
       "[15, 5, 6, 8, 78, 67, 95]"
      ]
     },
     "execution_count": 21,
     "metadata": {},
     "output_type": "execute_result"
    }
   ],
   "source": [
    "sur"
   ]
  },
  {
   "cell_type": "code",
   "execution_count": 22,
   "id": "7466db52",
   "metadata": {},
   "outputs": [
    {
     "data": {
      "text/plain": [
       "[15, 5, 6, 8]"
      ]
     },
     "execution_count": 22,
     "metadata": {},
     "output_type": "execute_result"
    }
   ],
   "source": [
    "sur[:4]"
   ]
  },
  {
   "cell_type": "code",
   "execution_count": 23,
   "id": "a1b13a08",
   "metadata": {},
   "outputs": [],
   "source": [
    "# list is mutalbe"
   ]
  },
  {
   "cell_type": "code",
   "execution_count": 24,
   "id": "b6bd8d9e",
   "metadata": {},
   "outputs": [
    {
     "data": {
      "text/plain": [
       "[15, 5, 6, 8, 78, 67, 95]"
      ]
     },
     "execution_count": 24,
     "metadata": {},
     "output_type": "execute_result"
    }
   ],
   "source": [
    "sur"
   ]
  },
  {
   "cell_type": "code",
   "execution_count": 25,
   "id": "c175bef9",
   "metadata": {},
   "outputs": [],
   "source": [
    "sur[3] = 'surbhi'"
   ]
  },
  {
   "cell_type": "code",
   "execution_count": 26,
   "id": "9662e8fb",
   "metadata": {},
   "outputs": [
    {
     "data": {
      "text/plain": [
       "[15, 5, 6, 'surbhi', 78, 67, 95]"
      ]
     },
     "execution_count": 26,
     "metadata": {},
     "output_type": "execute_result"
    }
   ],
   "source": [
    "sur"
   ]
  },
  {
   "cell_type": "code",
   "execution_count": 27,
   "id": "4f615aa4",
   "metadata": {},
   "outputs": [],
   "source": [
    "sur.append(56)"
   ]
  },
  {
   "cell_type": "code",
   "execution_count": 28,
   "id": "f299ac70",
   "metadata": {},
   "outputs": [
    {
     "data": {
      "text/plain": [
       "[15, 5, 6, 'surbhi', 78, 67, 95, 56]"
      ]
     },
     "execution_count": 28,
     "metadata": {},
     "output_type": "execute_result"
    }
   ],
   "source": [
    "sur"
   ]
  },
  {
   "cell_type": "code",
   "execution_count": 29,
   "id": "ab4c4cc3",
   "metadata": {},
   "outputs": [],
   "source": [
    "sur.append('dany')"
   ]
  },
  {
   "cell_type": "code",
   "execution_count": 30,
   "id": "229a99c8",
   "metadata": {},
   "outputs": [
    {
     "data": {
      "text/plain": [
       "[15, 5, 6, 'surbhi', 78, 67, 95, 56, 'dany']"
      ]
     },
     "execution_count": 30,
     "metadata": {},
     "output_type": "execute_result"
    }
   ],
   "source": [
    "sur"
   ]
  },
  {
   "cell_type": "code",
   "execution_count": 31,
   "id": "df0a1361",
   "metadata": {},
   "outputs": [],
   "source": [
    "# 21 april"
   ]
  },
  {
   "cell_type": "code",
   "execution_count": 33,
   "id": "b04013e8",
   "metadata": {},
   "outputs": [
    {
     "name": "stdout",
     "output_type": "stream",
     "text": [
      "1\n",
      "2\n",
      "3\n",
      "4\n"
     ]
    }
   ],
   "source": [
    "i = 1\n",
    "while i<5:\n",
    "    print(i)\n",
    "    i=i+1\n"
   ]
  },
  {
   "cell_type": "code",
   "execution_count": 35,
   "id": "4892e012",
   "metadata": {},
   "outputs": [],
   "source": [
    "# list comprenhensive (we can create list in run time using for loop)"
   ]
  },
  {
   "cell_type": "code",
   "execution_count": 36,
   "id": "85863b7e",
   "metadata": {},
   "outputs": [],
   "source": [
    "x = [1,2,3,4,5]"
   ]
  },
  {
   "cell_type": "code",
   "execution_count": 37,
   "id": "617864c6",
   "metadata": {},
   "outputs": [],
   "source": [
    "aarti = []"
   ]
  },
  {
   "cell_type": "code",
   "execution_count": 38,
   "id": "6da90b25",
   "metadata": {},
   "outputs": [
    {
     "data": {
      "text/plain": [
       "[]"
      ]
     },
     "execution_count": 38,
     "metadata": {},
     "output_type": "execute_result"
    }
   ],
   "source": [
    "aarti"
   ]
  },
  {
   "cell_type": "code",
   "execution_count": 39,
   "id": "6e83a3c9",
   "metadata": {},
   "outputs": [],
   "source": [
    "for i in x:\n",
    "    aarti.append(i**2)"
   ]
  },
  {
   "cell_type": "code",
   "execution_count": 40,
   "id": "954201ad",
   "metadata": {},
   "outputs": [
    {
     "data": {
      "text/plain": [
       "[1, 4, 9, 16, 25]"
      ]
     },
     "execution_count": 40,
     "metadata": {},
     "output_type": "execute_result"
    }
   ],
   "source": [
    "aarti"
   ]
  },
  {
   "cell_type": "code",
   "execution_count": 41,
   "id": "77753ec9",
   "metadata": {},
   "outputs": [],
   "source": [
    "surbhi = [i**2 for i in x]"
   ]
  },
  {
   "cell_type": "code",
   "execution_count": 42,
   "id": "f8782ad1",
   "metadata": {},
   "outputs": [
    {
     "data": {
      "text/plain": [
       "[1, 4, 9, 16, 25]"
      ]
     },
     "execution_count": 42,
     "metadata": {},
     "output_type": "execute_result"
    }
   ],
   "source": [
    "surbhi"
   ]
  },
  {
   "cell_type": "code",
   "execution_count": 43,
   "id": "49437355",
   "metadata": {},
   "outputs": [],
   "source": [
    "sur1 = [i**3 for i in x]"
   ]
  },
  {
   "cell_type": "code",
   "execution_count": 44,
   "id": "56462240",
   "metadata": {},
   "outputs": [
    {
     "data": {
      "text/plain": [
       "[1, 8, 27, 64, 125]"
      ]
     },
     "execution_count": 44,
     "metadata": {},
     "output_type": "execute_result"
    }
   ],
   "source": [
    "sur1"
   ]
  },
  {
   "cell_type": "code",
   "execution_count": 45,
   "id": "3b109174",
   "metadata": {},
   "outputs": [],
   "source": [
    "dany = [i**2 for i in x]"
   ]
  },
  {
   "cell_type": "code",
   "execution_count": 46,
   "id": "394ec0c9",
   "metadata": {},
   "outputs": [
    {
     "data": {
      "text/plain": [
       "[1, 4, 9, 16, 25]"
      ]
     },
     "execution_count": 46,
     "metadata": {},
     "output_type": "execute_result"
    }
   ],
   "source": [
    "dany"
   ]
  },
  {
   "cell_type": "code",
   "execution_count": 47,
   "id": "42fac162",
   "metadata": {},
   "outputs": [],
   "source": [
    "# UDF"
   ]
  },
  {
   "cell_type": "code",
   "execution_count": 48,
   "id": "3ff16efc",
   "metadata": {},
   "outputs": [],
   "source": [
    "def arti(a,b):\n",
    "    c = a + b\n",
    "    return c"
   ]
  },
  {
   "cell_type": "code",
   "execution_count": 49,
   "id": "1d3f412e",
   "metadata": {},
   "outputs": [
    {
     "data": {
      "text/plain": [
       "function"
      ]
     },
     "execution_count": 49,
     "metadata": {},
     "output_type": "execute_result"
    }
   ],
   "source": [
    "type(arti)"
   ]
  },
  {
   "cell_type": "code",
   "execution_count": 50,
   "id": "50366b7e",
   "metadata": {},
   "outputs": [
    {
     "data": {
      "text/plain": [
       "30"
      ]
     },
     "execution_count": 50,
     "metadata": {},
     "output_type": "execute_result"
    }
   ],
   "source": [
    "arti(10,20)"
   ]
  },
  {
   "cell_type": "code",
   "execution_count": 51,
   "id": "567c2fe3",
   "metadata": {},
   "outputs": [],
   "source": [
    "def time2(a):\n",
    "    return a**2"
   ]
  },
  {
   "cell_type": "code",
   "execution_count": 52,
   "id": "ff7194cc",
   "metadata": {},
   "outputs": [
    {
     "data": {
      "text/plain": [
       "4"
      ]
     },
     "execution_count": 52,
     "metadata": {},
     "output_type": "execute_result"
    }
   ],
   "source": [
    "time2(2)"
   ]
  },
  {
   "cell_type": "code",
   "execution_count": 53,
   "id": "ede95afc",
   "metadata": {},
   "outputs": [
    {
     "data": {
      "text/plain": [
       "25"
      ]
     },
     "execution_count": 53,
     "metadata": {},
     "output_type": "execute_result"
    }
   ],
   "source": [
    "time2(5)"
   ]
  },
  {
   "cell_type": "code",
   "execution_count": 54,
   "id": "b6ad446c",
   "metadata": {},
   "outputs": [],
   "source": [
    "def cube(a):\n",
    "    return a**3"
   ]
  },
  {
   "cell_type": "code",
   "execution_count": 55,
   "id": "430e257f",
   "metadata": {},
   "outputs": [
    {
     "data": {
      "text/plain": [
       "27"
      ]
     },
     "execution_count": 55,
     "metadata": {},
     "output_type": "execute_result"
    }
   ],
   "source": [
    "cube(3)"
   ]
  },
  {
   "cell_type": "code",
   "execution_count": 56,
   "id": "ebc8e553",
   "metadata": {},
   "outputs": [],
   "source": [
    "import numpy as np"
   ]
  },
  {
   "cell_type": "code",
   "execution_count": 57,
   "id": "92043025",
   "metadata": {},
   "outputs": [],
   "source": [
    "lst = [48,59,66,3,2,89]"
   ]
  },
  {
   "cell_type": "code",
   "execution_count": 58,
   "id": "1e740fc7",
   "metadata": {},
   "outputs": [
    {
     "data": {
      "text/plain": [
       "list"
      ]
     },
     "execution_count": 58,
     "metadata": {},
     "output_type": "execute_result"
    }
   ],
   "source": [
    "type(lst)"
   ]
  },
  {
   "cell_type": "code",
   "execution_count": 59,
   "id": "9ea7d42f",
   "metadata": {},
   "outputs": [],
   "source": [
    "arr = np.array(lst)"
   ]
  },
  {
   "cell_type": "code",
   "execution_count": 60,
   "id": "e66a5181",
   "metadata": {},
   "outputs": [
    {
     "data": {
      "text/plain": [
       "numpy.ndarray"
      ]
     },
     "execution_count": 60,
     "metadata": {},
     "output_type": "execute_result"
    }
   ],
   "source": [
    "type(arr)"
   ]
  },
  {
   "cell_type": "code",
   "execution_count": 61,
   "id": "86fd1be0",
   "metadata": {},
   "outputs": [],
   "source": [
    "arr1 = np.array([12,5,6,8,9])"
   ]
  },
  {
   "cell_type": "code",
   "execution_count": 62,
   "id": "fdf31336",
   "metadata": {},
   "outputs": [
    {
     "data": {
      "text/plain": [
       "array([12,  5,  6,  8,  9])"
      ]
     },
     "execution_count": 62,
     "metadata": {},
     "output_type": "execute_result"
    }
   ],
   "source": [
    "arr1"
   ]
  },
  {
   "cell_type": "code",
   "execution_count": 63,
   "id": "6ac8bb55",
   "metadata": {},
   "outputs": [
    {
     "data": {
      "text/plain": [
       "array([48, 59, 66,  3,  2, 89])"
      ]
     },
     "execution_count": 63,
     "metadata": {},
     "output_type": "execute_result"
    }
   ],
   "source": [
    "arr"
   ]
  },
  {
   "cell_type": "code",
   "execution_count": 64,
   "id": "950355a1",
   "metadata": {},
   "outputs": [
    {
     "data": {
      "text/plain": [
       "(6,)"
      ]
     },
     "execution_count": 64,
     "metadata": {},
     "output_type": "execute_result"
    }
   ],
   "source": [
    "arr.shape"
   ]
  },
  {
   "cell_type": "code",
   "execution_count": 65,
   "id": "63c840ce",
   "metadata": {},
   "outputs": [
    {
     "data": {
      "text/plain": [
       "(5,)"
      ]
     },
     "execution_count": 65,
     "metadata": {},
     "output_type": "execute_result"
    }
   ],
   "source": [
    "arr1.shape"
   ]
  },
  {
   "cell_type": "code",
   "execution_count": 66,
   "id": "e6d64c3a",
   "metadata": {},
   "outputs": [],
   "source": [
    "arr2 = np.array([[3,4,5],[5,6,8]])"
   ]
  },
  {
   "cell_type": "code",
   "execution_count": 67,
   "id": "3e7a8c54",
   "metadata": {},
   "outputs": [
    {
     "data": {
      "text/plain": [
       "array([[3, 4, 5],\n",
       "       [5, 6, 8]])"
      ]
     },
     "execution_count": 67,
     "metadata": {},
     "output_type": "execute_result"
    }
   ],
   "source": [
    "arr2"
   ]
  },
  {
   "cell_type": "code",
   "execution_count": 68,
   "id": "e20165b3",
   "metadata": {},
   "outputs": [
    {
     "data": {
      "text/plain": [
       "(2, 3)"
      ]
     },
     "execution_count": 68,
     "metadata": {},
     "output_type": "execute_result"
    }
   ],
   "source": [
    "arr2.shape"
   ]
  },
  {
   "cell_type": "code",
   "execution_count": 69,
   "id": "35fb606d",
   "metadata": {},
   "outputs": [],
   "source": [
    "#(row,col)"
   ]
  },
  {
   "cell_type": "code",
   "execution_count": null,
   "id": "a56cdf7c",
   "metadata": {},
   "outputs": [],
   "source": []
  }
 ],
 "metadata": {
  "kernelspec": {
   "display_name": "Python 3 (ipykernel)",
   "language": "python",
   "name": "python3"
  },
  "language_info": {
   "codemirror_mode": {
    "name": "ipython",
    "version": 3
   },
   "file_extension": ".py",
   "mimetype": "text/x-python",
   "name": "python",
   "nbconvert_exporter": "python",
   "pygments_lexer": "ipython3",
   "version": "3.9.7"
  }
 },
 "nbformat": 4,
 "nbformat_minor": 5
}
